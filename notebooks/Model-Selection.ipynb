{
 "cells": [
  {
   "cell_type": "code",
   "execution_count": 1,
   "id": "6667a0f5",
   "metadata": {},
   "outputs": [],
   "source": [
    "import pandas as pd\n",
    "import numpy as np\n",
    "\n",
    "from sklearn.preprocessing import OneHotEncoder\n",
    "from sklearn.compose import ColumnTransformer\n",
    "from sklearn.linear_model import LinearRegression, Ridge\n",
    "from sklearn.pipeline import Pipeline\n",
    "from sklearn.metrics import mean_absolute_percentage_error\n",
    "from sklearn.svm import SVR\n",
    "\n",
    "from sklearn.ensemble import RandomForestRegressor, GradientBoostingRegressor\n",
    "from xgboost import XGBRegressor\n",
    "\n",
    "import mlflow"
   ]
  },
  {
   "cell_type": "code",
   "execution_count": 2,
   "id": "6668e0c9",
   "metadata": {},
   "outputs": [],
   "source": [
    "mlflow.set_tracking_uri(\"https://dagshub.com/maverick011/Uber-Demand-Prediction.mlflow\")"
   ]
  },
  {
   "cell_type": "code",
   "execution_count": 4,
   "id": "8141d17f",
   "metadata": {},
   "outputs": [
    {
     "data": {
      "text/html": [
       "<pre style=\"white-space:pre;overflow-x:auto;line-height:normal;font-family:Menlo,'DejaVu Sans Mono',consolas,'Courier New',monospace\">Initialized MLflow to track repo <span style=\"color: #008000; text-decoration-color: #008000\">\"maverick011/Uber-Demand-Prediction\"</span>\n",
       "</pre>\n"
      ],
      "text/plain": [
       "Initialized MLflow to track repo \u001b[32m\"maverick011/Uber-Demand-Prediction\"\u001b[0m\n"
      ]
     },
     "metadata": {},
     "output_type": "display_data"
    },
    {
     "data": {
      "text/html": [
       "<pre style=\"white-space:pre;overflow-x:auto;line-height:normal;font-family:Menlo,'DejaVu Sans Mono',consolas,'Courier New',monospace\">Repository maverick011/Uber-Demand-Prediction initialized!\n",
       "</pre>\n"
      ],
      "text/plain": [
       "Repository maverick011/Uber-Demand-Prediction initialized!\n"
      ]
     },
     "metadata": {},
     "output_type": "display_data"
    }
   ],
   "source": [
    "import dagshub\n",
    "dagshub.init(repo_owner='maverick011', repo_name='Uber-Demand-Prediction', mlflow=True)"
   ]
  },
  {
   "cell_type": "code",
   "execution_count": 5,
   "id": "bcb452e1",
   "metadata": {},
   "outputs": [
    {
     "data": {
      "text/html": [
       "<div>\n",
       "<style scoped>\n",
       "    .dataframe tbody tr th:only-of-type {\n",
       "        vertical-align: middle;\n",
       "    }\n",
       "\n",
       "    .dataframe tbody tr th {\n",
       "        vertical-align: top;\n",
       "    }\n",
       "\n",
       "    .dataframe thead th {\n",
       "        text-align: right;\n",
       "    }\n",
       "</style>\n",
       "<table border=\"1\" class=\"dataframe\">\n",
       "  <thead>\n",
       "    <tr style=\"text-align: right;\">\n",
       "      <th></th>\n",
       "      <th>lag_1</th>\n",
       "      <th>lag_2</th>\n",
       "      <th>lag_3</th>\n",
       "      <th>lag_4</th>\n",
       "      <th>region</th>\n",
       "      <th>total_pickups</th>\n",
       "      <th>avg_pickups</th>\n",
       "      <th>day_of_week</th>\n",
       "    </tr>\n",
       "    <tr>\n",
       "      <th>tpep_pickup_datetime</th>\n",
       "      <th></th>\n",
       "      <th></th>\n",
       "      <th></th>\n",
       "      <th></th>\n",
       "      <th></th>\n",
       "      <th></th>\n",
       "      <th></th>\n",
       "      <th></th>\n",
       "    </tr>\n",
       "  </thead>\n",
       "  <tbody>\n",
       "    <tr>\n",
       "      <th>2016-01-01 01:00:00</th>\n",
       "      <td>160.0</td>\n",
       "      <td>149.0</td>\n",
       "      <td>120.0</td>\n",
       "      <td>58.0</td>\n",
       "      <td>0</td>\n",
       "      <td>187</td>\n",
       "      <td>161.0</td>\n",
       "      <td>4</td>\n",
       "    </tr>\n",
       "    <tr>\n",
       "      <th>2016-01-01 01:15:00</th>\n",
       "      <td>187.0</td>\n",
       "      <td>160.0</td>\n",
       "      <td>149.0</td>\n",
       "      <td>120.0</td>\n",
       "      <td>0</td>\n",
       "      <td>194</td>\n",
       "      <td>175.0</td>\n",
       "      <td>4</td>\n",
       "    </tr>\n",
       "    <tr>\n",
       "      <th>2016-01-01 01:30:00</th>\n",
       "      <td>194.0</td>\n",
       "      <td>187.0</td>\n",
       "      <td>160.0</td>\n",
       "      <td>149.0</td>\n",
       "      <td>0</td>\n",
       "      <td>180</td>\n",
       "      <td>177.0</td>\n",
       "      <td>4</td>\n",
       "    </tr>\n",
       "    <tr>\n",
       "      <th>2016-01-01 01:45:00</th>\n",
       "      <td>180.0</td>\n",
       "      <td>194.0</td>\n",
       "      <td>187.0</td>\n",
       "      <td>160.0</td>\n",
       "      <td>0</td>\n",
       "      <td>197</td>\n",
       "      <td>185.0</td>\n",
       "      <td>4</td>\n",
       "    </tr>\n",
       "    <tr>\n",
       "      <th>2016-01-01 02:00:00</th>\n",
       "      <td>197.0</td>\n",
       "      <td>180.0</td>\n",
       "      <td>194.0</td>\n",
       "      <td>187.0</td>\n",
       "      <td>0</td>\n",
       "      <td>185</td>\n",
       "      <td>185.0</td>\n",
       "      <td>4</td>\n",
       "    </tr>\n",
       "    <tr>\n",
       "      <th>...</th>\n",
       "      <td>...</td>\n",
       "      <td>...</td>\n",
       "      <td>...</td>\n",
       "      <td>...</td>\n",
       "      <td>...</td>\n",
       "      <td>...</td>\n",
       "      <td>...</td>\n",
       "      <td>...</td>\n",
       "    </tr>\n",
       "    <tr>\n",
       "      <th>2016-02-29 22:45:00</th>\n",
       "      <td>15.0</td>\n",
       "      <td>9.0</td>\n",
       "      <td>11.0</td>\n",
       "      <td>11.0</td>\n",
       "      <td>29</td>\n",
       "      <td>12</td>\n",
       "      <td>12.0</td>\n",
       "      <td>0</td>\n",
       "    </tr>\n",
       "    <tr>\n",
       "      <th>2016-02-29 23:00:00</th>\n",
       "      <td>12.0</td>\n",
       "      <td>15.0</td>\n",
       "      <td>9.0</td>\n",
       "      <td>11.0</td>\n",
       "      <td>29</td>\n",
       "      <td>17</td>\n",
       "      <td>14.0</td>\n",
       "      <td>0</td>\n",
       "    </tr>\n",
       "    <tr>\n",
       "      <th>2016-02-29 23:15:00</th>\n",
       "      <td>17.0</td>\n",
       "      <td>12.0</td>\n",
       "      <td>15.0</td>\n",
       "      <td>9.0</td>\n",
       "      <td>29</td>\n",
       "      <td>15</td>\n",
       "      <td>14.0</td>\n",
       "      <td>0</td>\n",
       "    </tr>\n",
       "    <tr>\n",
       "      <th>2016-02-29 23:30:00</th>\n",
       "      <td>15.0</td>\n",
       "      <td>17.0</td>\n",
       "      <td>12.0</td>\n",
       "      <td>15.0</td>\n",
       "      <td>29</td>\n",
       "      <td>15</td>\n",
       "      <td>15.0</td>\n",
       "      <td>0</td>\n",
       "    </tr>\n",
       "    <tr>\n",
       "      <th>2016-02-29 23:45:00</th>\n",
       "      <td>15.0</td>\n",
       "      <td>15.0</td>\n",
       "      <td>17.0</td>\n",
       "      <td>12.0</td>\n",
       "      <td>29</td>\n",
       "      <td>12</td>\n",
       "      <td>14.0</td>\n",
       "      <td>0</td>\n",
       "    </tr>\n",
       "  </tbody>\n",
       "</table>\n",
       "<p>172680 rows × 8 columns</p>\n",
       "</div>"
      ],
      "text/plain": [
       "                      lag_1  lag_2  lag_3  lag_4  region  total_pickups  \\\n",
       "tpep_pickup_datetime                                                      \n",
       "2016-01-01 01:00:00   160.0  149.0  120.0   58.0       0            187   \n",
       "2016-01-01 01:15:00   187.0  160.0  149.0  120.0       0            194   \n",
       "2016-01-01 01:30:00   194.0  187.0  160.0  149.0       0            180   \n",
       "2016-01-01 01:45:00   180.0  194.0  187.0  160.0       0            197   \n",
       "2016-01-01 02:00:00   197.0  180.0  194.0  187.0       0            185   \n",
       "...                     ...    ...    ...    ...     ...            ...   \n",
       "2016-02-29 22:45:00    15.0    9.0   11.0   11.0      29             12   \n",
       "2016-02-29 23:00:00    12.0   15.0    9.0   11.0      29             17   \n",
       "2016-02-29 23:15:00    17.0   12.0   15.0    9.0      29             15   \n",
       "2016-02-29 23:30:00    15.0   17.0   12.0   15.0      29             15   \n",
       "2016-02-29 23:45:00    15.0   15.0   17.0   12.0      29             12   \n",
       "\n",
       "                      avg_pickups  day_of_week  \n",
       "tpep_pickup_datetime                            \n",
       "2016-01-01 01:00:00         161.0            4  \n",
       "2016-01-01 01:15:00         175.0            4  \n",
       "2016-01-01 01:30:00         177.0            4  \n",
       "2016-01-01 01:45:00         185.0            4  \n",
       "2016-01-01 02:00:00         185.0            4  \n",
       "...                           ...          ...  \n",
       "2016-02-29 22:45:00          12.0            0  \n",
       "2016-02-29 23:00:00          14.0            0  \n",
       "2016-02-29 23:15:00          14.0            0  \n",
       "2016-02-29 23:30:00          15.0            0  \n",
       "2016-02-29 23:45:00          14.0            0  \n",
       "\n",
       "[172680 rows x 8 columns]"
      ]
     },
     "execution_count": 5,
     "metadata": {},
     "output_type": "execute_result"
    }
   ],
   "source": [
    "# load the training and test data\n",
    "\n",
    "train_data_path = \"../data/processed/train.csv\"\n",
    "test_data_path = \"../data/processed/test.csv\"\n",
    "\n",
    "train_df = pd.read_csv(train_data_path, parse_dates=[\"tpep_pickup_datetime\"]).set_index(\"tpep_pickup_datetime\")\n",
    "\n",
    "test_df = pd.read_csv(test_data_path, parse_dates=[\"tpep_pickup_datetime\"]).set_index(\"tpep_pickup_datetime\")\n",
    "\n",
    "train_df"
   ]
  },
  {
   "cell_type": "code",
   "execution_count": 6,
   "id": "3527edd4",
   "metadata": {},
   "outputs": [
    {
     "data": {
      "text/plain": [
       "lag_1            0\n",
       "lag_2            0\n",
       "lag_3            0\n",
       "lag_4            0\n",
       "region           0\n",
       "total_pickups    0\n",
       "avg_pickups      0\n",
       "day_of_week      0\n",
       "dtype: int64"
      ]
     },
     "execution_count": 6,
     "metadata": {},
     "output_type": "execute_result"
    }
   ],
   "source": [
    "# missing value in training data\n",
    "\n",
    "train_df.isna().sum()"
   ]
  },
  {
   "cell_type": "code",
   "execution_count": 7,
   "id": "ce6176a8",
   "metadata": {},
   "outputs": [
    {
     "data": {
      "text/plain": [
       "lag_1            0\n",
       "lag_2            0\n",
       "lag_3            0\n",
       "lag_4            0\n",
       "region           0\n",
       "total_pickups    0\n",
       "avg_pickups      0\n",
       "day_of_week      0\n",
       "dtype: int64"
      ]
     },
     "execution_count": 7,
     "metadata": {},
     "output_type": "execute_result"
    }
   ],
   "source": [
    "# missing values in the test data\n",
    "\n",
    "test_df.isna().sum()"
   ]
  },
  {
   "cell_type": "code",
   "execution_count": 8,
   "id": "72ed52de",
   "metadata": {},
   "outputs": [],
   "source": [
    "# make X_train and y_train\n",
    "\n",
    "X_train = train_df.drop(columns=[\"total_pickups\"])\n",
    "\n",
    "y_train = train_df[\"total_pickups\"]"
   ]
  },
  {
   "cell_type": "code",
   "execution_count": 9,
   "id": "a8c8e48a",
   "metadata": {},
   "outputs": [
    {
     "data": {
      "text/html": [
       "<div>\n",
       "<style scoped>\n",
       "    .dataframe tbody tr th:only-of-type {\n",
       "        vertical-align: middle;\n",
       "    }\n",
       "\n",
       "    .dataframe tbody tr th {\n",
       "        vertical-align: top;\n",
       "    }\n",
       "\n",
       "    .dataframe thead th {\n",
       "        text-align: right;\n",
       "    }\n",
       "</style>\n",
       "<table border=\"1\" class=\"dataframe\">\n",
       "  <thead>\n",
       "    <tr style=\"text-align: right;\">\n",
       "      <th></th>\n",
       "      <th>lag_1</th>\n",
       "      <th>lag_2</th>\n",
       "      <th>lag_3</th>\n",
       "      <th>lag_4</th>\n",
       "      <th>region</th>\n",
       "      <th>avg_pickups</th>\n",
       "      <th>day_of_week</th>\n",
       "    </tr>\n",
       "    <tr>\n",
       "      <th>tpep_pickup_datetime</th>\n",
       "      <th></th>\n",
       "      <th></th>\n",
       "      <th></th>\n",
       "      <th></th>\n",
       "      <th></th>\n",
       "      <th></th>\n",
       "      <th></th>\n",
       "    </tr>\n",
       "  </thead>\n",
       "  <tbody>\n",
       "    <tr>\n",
       "      <th>2016-01-01 01:00:00</th>\n",
       "      <td>160.0</td>\n",
       "      <td>149.0</td>\n",
       "      <td>120.0</td>\n",
       "      <td>58.0</td>\n",
       "      <td>0</td>\n",
       "      <td>161.0</td>\n",
       "      <td>4</td>\n",
       "    </tr>\n",
       "    <tr>\n",
       "      <th>2016-01-01 01:15:00</th>\n",
       "      <td>187.0</td>\n",
       "      <td>160.0</td>\n",
       "      <td>149.0</td>\n",
       "      <td>120.0</td>\n",
       "      <td>0</td>\n",
       "      <td>175.0</td>\n",
       "      <td>4</td>\n",
       "    </tr>\n",
       "    <tr>\n",
       "      <th>2016-01-01 01:30:00</th>\n",
       "      <td>194.0</td>\n",
       "      <td>187.0</td>\n",
       "      <td>160.0</td>\n",
       "      <td>149.0</td>\n",
       "      <td>0</td>\n",
       "      <td>177.0</td>\n",
       "      <td>4</td>\n",
       "    </tr>\n",
       "    <tr>\n",
       "      <th>2016-01-01 01:45:00</th>\n",
       "      <td>180.0</td>\n",
       "      <td>194.0</td>\n",
       "      <td>187.0</td>\n",
       "      <td>160.0</td>\n",
       "      <td>0</td>\n",
       "      <td>185.0</td>\n",
       "      <td>4</td>\n",
       "    </tr>\n",
       "    <tr>\n",
       "      <th>2016-01-01 02:00:00</th>\n",
       "      <td>197.0</td>\n",
       "      <td>180.0</td>\n",
       "      <td>194.0</td>\n",
       "      <td>187.0</td>\n",
       "      <td>0</td>\n",
       "      <td>185.0</td>\n",
       "      <td>4</td>\n",
       "    </tr>\n",
       "  </tbody>\n",
       "</table>\n",
       "</div>"
      ],
      "text/plain": [
       "                      lag_1  lag_2  lag_3  lag_4  region  avg_pickups  \\\n",
       "tpep_pickup_datetime                                                    \n",
       "2016-01-01 01:00:00   160.0  149.0  120.0   58.0       0        161.0   \n",
       "2016-01-01 01:15:00   187.0  160.0  149.0  120.0       0        175.0   \n",
       "2016-01-01 01:30:00   194.0  187.0  160.0  149.0       0        177.0   \n",
       "2016-01-01 01:45:00   180.0  194.0  187.0  160.0       0        185.0   \n",
       "2016-01-01 02:00:00   197.0  180.0  194.0  187.0       0        185.0   \n",
       "\n",
       "                      day_of_week  \n",
       "tpep_pickup_datetime               \n",
       "2016-01-01 01:00:00             4  \n",
       "2016-01-01 01:15:00             4  \n",
       "2016-01-01 01:30:00             4  \n",
       "2016-01-01 01:45:00             4  \n",
       "2016-01-01 02:00:00             4  "
      ]
     },
     "execution_count": 9,
     "metadata": {},
     "output_type": "execute_result"
    }
   ],
   "source": [
    "X_train.head()"
   ]
  },
  {
   "cell_type": "code",
   "execution_count": 10,
   "id": "5b0c6853",
   "metadata": {},
   "outputs": [],
   "source": [
    "# make X_test and y_test\n",
    "\n",
    "X_test = test_df.drop(columns=[\"total_pickups\"])\n",
    "\n",
    "y_test = test_df[\"total_pickups\"]"
   ]
  },
  {
   "cell_type": "code",
   "execution_count": 11,
   "id": "dfb6e58b",
   "metadata": {},
   "outputs": [
    {
     "data": {
      "text/html": [
       "<div>\n",
       "<style scoped>\n",
       "    .dataframe tbody tr th:only-of-type {\n",
       "        vertical-align: middle;\n",
       "    }\n",
       "\n",
       "    .dataframe tbody tr th {\n",
       "        vertical-align: top;\n",
       "    }\n",
       "\n",
       "    .dataframe thead th {\n",
       "        text-align: right;\n",
       "    }\n",
       "</style>\n",
       "<table border=\"1\" class=\"dataframe\">\n",
       "  <thead>\n",
       "    <tr style=\"text-align: right;\">\n",
       "      <th></th>\n",
       "      <th>lag_1</th>\n",
       "      <th>lag_2</th>\n",
       "      <th>lag_3</th>\n",
       "      <th>lag_4</th>\n",
       "      <th>region</th>\n",
       "      <th>avg_pickups</th>\n",
       "      <th>day_of_week</th>\n",
       "    </tr>\n",
       "    <tr>\n",
       "      <th>tpep_pickup_datetime</th>\n",
       "      <th></th>\n",
       "      <th></th>\n",
       "      <th></th>\n",
       "      <th></th>\n",
       "      <th></th>\n",
       "      <th></th>\n",
       "      <th></th>\n",
       "    </tr>\n",
       "  </thead>\n",
       "  <tbody>\n",
       "    <tr>\n",
       "      <th>2016-03-01 00:00:00</th>\n",
       "      <td>36.0</td>\n",
       "      <td>44.0</td>\n",
       "      <td>31.0</td>\n",
       "      <td>29.0</td>\n",
       "      <td>0</td>\n",
       "      <td>39.0</td>\n",
       "      <td>1</td>\n",
       "    </tr>\n",
       "    <tr>\n",
       "      <th>2016-03-01 00:15:00</th>\n",
       "      <td>41.0</td>\n",
       "      <td>36.0</td>\n",
       "      <td>44.0</td>\n",
       "      <td>31.0</td>\n",
       "      <td>0</td>\n",
       "      <td>37.0</td>\n",
       "      <td>1</td>\n",
       "    </tr>\n",
       "    <tr>\n",
       "      <th>2016-03-01 00:30:00</th>\n",
       "      <td>35.0</td>\n",
       "      <td>41.0</td>\n",
       "      <td>36.0</td>\n",
       "      <td>44.0</td>\n",
       "      <td>0</td>\n",
       "      <td>41.0</td>\n",
       "      <td>1</td>\n",
       "    </tr>\n",
       "    <tr>\n",
       "      <th>2016-03-01 00:45:00</th>\n",
       "      <td>47.0</td>\n",
       "      <td>35.0</td>\n",
       "      <td>41.0</td>\n",
       "      <td>36.0</td>\n",
       "      <td>0</td>\n",
       "      <td>38.0</td>\n",
       "      <td>1</td>\n",
       "    </tr>\n",
       "    <tr>\n",
       "      <th>2016-03-01 01:00:00</th>\n",
       "      <td>34.0</td>\n",
       "      <td>47.0</td>\n",
       "      <td>35.0</td>\n",
       "      <td>41.0</td>\n",
       "      <td>0</td>\n",
       "      <td>35.0</td>\n",
       "      <td>1</td>\n",
       "    </tr>\n",
       "  </tbody>\n",
       "</table>\n",
       "</div>"
      ],
      "text/plain": [
       "                      lag_1  lag_2  lag_3  lag_4  region  avg_pickups  \\\n",
       "tpep_pickup_datetime                                                    \n",
       "2016-03-01 00:00:00    36.0   44.0   31.0   29.0       0         39.0   \n",
       "2016-03-01 00:15:00    41.0   36.0   44.0   31.0       0         37.0   \n",
       "2016-03-01 00:30:00    35.0   41.0   36.0   44.0       0         41.0   \n",
       "2016-03-01 00:45:00    47.0   35.0   41.0   36.0       0         38.0   \n",
       "2016-03-01 01:00:00    34.0   47.0   35.0   41.0       0         35.0   \n",
       "\n",
       "                      day_of_week  \n",
       "tpep_pickup_datetime               \n",
       "2016-03-01 00:00:00             1  \n",
       "2016-03-01 00:15:00             1  \n",
       "2016-03-01 00:30:00             1  \n",
       "2016-03-01 00:45:00             1  \n",
       "2016-03-01 01:00:00             1  "
      ]
     },
     "execution_count": 11,
     "metadata": {},
     "output_type": "execute_result"
    }
   ],
   "source": [
    "X_test.head()"
   ]
  },
  {
   "cell_type": "code",
   "execution_count": 12,
   "id": "35b3e364",
   "metadata": {},
   "outputs": [],
   "source": [
    "from sklearn import set_config\n",
    "\n",
    "set_config(transform_output=\"pandas\")"
   ]
  },
  {
   "cell_type": "code",
   "execution_count": 13,
   "id": "8459d448",
   "metadata": {},
   "outputs": [],
   "source": [
    "# encode the data\n",
    "\n",
    "encoder = ColumnTransformer([\n",
    "    (\"ohe\", OneHotEncoder(drop=\"first\",sparse_output=False), [\"region\",\"day_of_week\"])\n",
    "], remainder=\"passthrough\", n_jobs=-1,force_int_remainder_cols=False)"
   ]
  },
  {
   "cell_type": "code",
   "execution_count": 14,
   "id": "12a0a829",
   "metadata": {},
   "outputs": [
    {
     "data": {
      "text/html": [
       "<style>#sk-container-id-1 {\n",
       "  /* Definition of color scheme common for light and dark mode */\n",
       "  --sklearn-color-text: #000;\n",
       "  --sklearn-color-text-muted: #666;\n",
       "  --sklearn-color-line: gray;\n",
       "  /* Definition of color scheme for unfitted estimators */\n",
       "  --sklearn-color-unfitted-level-0: #fff5e6;\n",
       "  --sklearn-color-unfitted-level-1: #f6e4d2;\n",
       "  --sklearn-color-unfitted-level-2: #ffe0b3;\n",
       "  --sklearn-color-unfitted-level-3: chocolate;\n",
       "  /* Definition of color scheme for fitted estimators */\n",
       "  --sklearn-color-fitted-level-0: #f0f8ff;\n",
       "  --sklearn-color-fitted-level-1: #d4ebff;\n",
       "  --sklearn-color-fitted-level-2: #b3dbfd;\n",
       "  --sklearn-color-fitted-level-3: cornflowerblue;\n",
       "\n",
       "  /* Specific color for light theme */\n",
       "  --sklearn-color-text-on-default-background: var(--sg-text-color, var(--theme-code-foreground, var(--jp-content-font-color1, black)));\n",
       "  --sklearn-color-background: var(--sg-background-color, var(--theme-background, var(--jp-layout-color0, white)));\n",
       "  --sklearn-color-border-box: var(--sg-text-color, var(--theme-code-foreground, var(--jp-content-font-color1, black)));\n",
       "  --sklearn-color-icon: #696969;\n",
       "\n",
       "  @media (prefers-color-scheme: dark) {\n",
       "    /* Redefinition of color scheme for dark theme */\n",
       "    --sklearn-color-text-on-default-background: var(--sg-text-color, var(--theme-code-foreground, var(--jp-content-font-color1, white)));\n",
       "    --sklearn-color-background: var(--sg-background-color, var(--theme-background, var(--jp-layout-color0, #111)));\n",
       "    --sklearn-color-border-box: var(--sg-text-color, var(--theme-code-foreground, var(--jp-content-font-color1, white)));\n",
       "    --sklearn-color-icon: #878787;\n",
       "  }\n",
       "}\n",
       "\n",
       "#sk-container-id-1 {\n",
       "  color: var(--sklearn-color-text);\n",
       "}\n",
       "\n",
       "#sk-container-id-1 pre {\n",
       "  padding: 0;\n",
       "}\n",
       "\n",
       "#sk-container-id-1 input.sk-hidden--visually {\n",
       "  border: 0;\n",
       "  clip: rect(1px 1px 1px 1px);\n",
       "  clip: rect(1px, 1px, 1px, 1px);\n",
       "  height: 1px;\n",
       "  margin: -1px;\n",
       "  overflow: hidden;\n",
       "  padding: 0;\n",
       "  position: absolute;\n",
       "  width: 1px;\n",
       "}\n",
       "\n",
       "#sk-container-id-1 div.sk-dashed-wrapped {\n",
       "  border: 1px dashed var(--sklearn-color-line);\n",
       "  margin: 0 0.4em 0.5em 0.4em;\n",
       "  box-sizing: border-box;\n",
       "  padding-bottom: 0.4em;\n",
       "  background-color: var(--sklearn-color-background);\n",
       "}\n",
       "\n",
       "#sk-container-id-1 div.sk-container {\n",
       "  /* jupyter's `normalize.less` sets `[hidden] { display: none; }`\n",
       "     but bootstrap.min.css set `[hidden] { display: none !important; }`\n",
       "     so we also need the `!important` here to be able to override the\n",
       "     default hidden behavior on the sphinx rendered scikit-learn.org.\n",
       "     See: https://github.com/scikit-learn/scikit-learn/issues/21755 */\n",
       "  display: inline-block !important;\n",
       "  position: relative;\n",
       "}\n",
       "\n",
       "#sk-container-id-1 div.sk-text-repr-fallback {\n",
       "  display: none;\n",
       "}\n",
       "\n",
       "div.sk-parallel-item,\n",
       "div.sk-serial,\n",
       "div.sk-item {\n",
       "  /* draw centered vertical line to link estimators */\n",
       "  background-image: linear-gradient(var(--sklearn-color-text-on-default-background), var(--sklearn-color-text-on-default-background));\n",
       "  background-size: 2px 100%;\n",
       "  background-repeat: no-repeat;\n",
       "  background-position: center center;\n",
       "}\n",
       "\n",
       "/* Parallel-specific style estimator block */\n",
       "\n",
       "#sk-container-id-1 div.sk-parallel-item::after {\n",
       "  content: \"\";\n",
       "  width: 100%;\n",
       "  border-bottom: 2px solid var(--sklearn-color-text-on-default-background);\n",
       "  flex-grow: 1;\n",
       "}\n",
       "\n",
       "#sk-container-id-1 div.sk-parallel {\n",
       "  display: flex;\n",
       "  align-items: stretch;\n",
       "  justify-content: center;\n",
       "  background-color: var(--sklearn-color-background);\n",
       "  position: relative;\n",
       "}\n",
       "\n",
       "#sk-container-id-1 div.sk-parallel-item {\n",
       "  display: flex;\n",
       "  flex-direction: column;\n",
       "}\n",
       "\n",
       "#sk-container-id-1 div.sk-parallel-item:first-child::after {\n",
       "  align-self: flex-end;\n",
       "  width: 50%;\n",
       "}\n",
       "\n",
       "#sk-container-id-1 div.sk-parallel-item:last-child::after {\n",
       "  align-self: flex-start;\n",
       "  width: 50%;\n",
       "}\n",
       "\n",
       "#sk-container-id-1 div.sk-parallel-item:only-child::after {\n",
       "  width: 0;\n",
       "}\n",
       "\n",
       "/* Serial-specific style estimator block */\n",
       "\n",
       "#sk-container-id-1 div.sk-serial {\n",
       "  display: flex;\n",
       "  flex-direction: column;\n",
       "  align-items: center;\n",
       "  background-color: var(--sklearn-color-background);\n",
       "  padding-right: 1em;\n",
       "  padding-left: 1em;\n",
       "}\n",
       "\n",
       "\n",
       "/* Toggleable style: style used for estimator/Pipeline/ColumnTransformer box that is\n",
       "clickable and can be expanded/collapsed.\n",
       "- Pipeline and ColumnTransformer use this feature and define the default style\n",
       "- Estimators will overwrite some part of the style using the `sk-estimator` class\n",
       "*/\n",
       "\n",
       "/* Pipeline and ColumnTransformer style (default) */\n",
       "\n",
       "#sk-container-id-1 div.sk-toggleable {\n",
       "  /* Default theme specific background. It is overwritten whether we have a\n",
       "  specific estimator or a Pipeline/ColumnTransformer */\n",
       "  background-color: var(--sklearn-color-background);\n",
       "}\n",
       "\n",
       "/* Toggleable label */\n",
       "#sk-container-id-1 label.sk-toggleable__label {\n",
       "  cursor: pointer;\n",
       "  display: flex;\n",
       "  width: 100%;\n",
       "  margin-bottom: 0;\n",
       "  padding: 0.5em;\n",
       "  box-sizing: border-box;\n",
       "  text-align: center;\n",
       "  align-items: start;\n",
       "  justify-content: space-between;\n",
       "  gap: 0.5em;\n",
       "}\n",
       "\n",
       "#sk-container-id-1 label.sk-toggleable__label .caption {\n",
       "  font-size: 0.6rem;\n",
       "  font-weight: lighter;\n",
       "  color: var(--sklearn-color-text-muted);\n",
       "}\n",
       "\n",
       "#sk-container-id-1 label.sk-toggleable__label-arrow:before {\n",
       "  /* Arrow on the left of the label */\n",
       "  content: \"▸\";\n",
       "  float: left;\n",
       "  margin-right: 0.25em;\n",
       "  color: var(--sklearn-color-icon);\n",
       "}\n",
       "\n",
       "#sk-container-id-1 label.sk-toggleable__label-arrow:hover:before {\n",
       "  color: var(--sklearn-color-text);\n",
       "}\n",
       "\n",
       "/* Toggleable content - dropdown */\n",
       "\n",
       "#sk-container-id-1 div.sk-toggleable__content {\n",
       "  display: none;\n",
       "  text-align: left;\n",
       "  /* unfitted */\n",
       "  background-color: var(--sklearn-color-unfitted-level-0);\n",
       "}\n",
       "\n",
       "#sk-container-id-1 div.sk-toggleable__content.fitted {\n",
       "  /* fitted */\n",
       "  background-color: var(--sklearn-color-fitted-level-0);\n",
       "}\n",
       "\n",
       "#sk-container-id-1 div.sk-toggleable__content pre {\n",
       "  margin: 0.2em;\n",
       "  border-radius: 0.25em;\n",
       "  color: var(--sklearn-color-text);\n",
       "  /* unfitted */\n",
       "  background-color: var(--sklearn-color-unfitted-level-0);\n",
       "}\n",
       "\n",
       "#sk-container-id-1 div.sk-toggleable__content.fitted pre {\n",
       "  /* unfitted */\n",
       "  background-color: var(--sklearn-color-fitted-level-0);\n",
       "}\n",
       "\n",
       "#sk-container-id-1 input.sk-toggleable__control:checked~div.sk-toggleable__content {\n",
       "  /* Expand drop-down */\n",
       "  display: block;\n",
       "  width: 100%;\n",
       "  overflow: visible;\n",
       "}\n",
       "\n",
       "#sk-container-id-1 input.sk-toggleable__control:checked~label.sk-toggleable__label-arrow:before {\n",
       "  content: \"▾\";\n",
       "}\n",
       "\n",
       "/* Pipeline/ColumnTransformer-specific style */\n",
       "\n",
       "#sk-container-id-1 div.sk-label input.sk-toggleable__control:checked~label.sk-toggleable__label {\n",
       "  color: var(--sklearn-color-text);\n",
       "  background-color: var(--sklearn-color-unfitted-level-2);\n",
       "}\n",
       "\n",
       "#sk-container-id-1 div.sk-label.fitted input.sk-toggleable__control:checked~label.sk-toggleable__label {\n",
       "  background-color: var(--sklearn-color-fitted-level-2);\n",
       "}\n",
       "\n",
       "/* Estimator-specific style */\n",
       "\n",
       "/* Colorize estimator box */\n",
       "#sk-container-id-1 div.sk-estimator input.sk-toggleable__control:checked~label.sk-toggleable__label {\n",
       "  /* unfitted */\n",
       "  background-color: var(--sklearn-color-unfitted-level-2);\n",
       "}\n",
       "\n",
       "#sk-container-id-1 div.sk-estimator.fitted input.sk-toggleable__control:checked~label.sk-toggleable__label {\n",
       "  /* fitted */\n",
       "  background-color: var(--sklearn-color-fitted-level-2);\n",
       "}\n",
       "\n",
       "#sk-container-id-1 div.sk-label label.sk-toggleable__label,\n",
       "#sk-container-id-1 div.sk-label label {\n",
       "  /* The background is the default theme color */\n",
       "  color: var(--sklearn-color-text-on-default-background);\n",
       "}\n",
       "\n",
       "/* On hover, darken the color of the background */\n",
       "#sk-container-id-1 div.sk-label:hover label.sk-toggleable__label {\n",
       "  color: var(--sklearn-color-text);\n",
       "  background-color: var(--sklearn-color-unfitted-level-2);\n",
       "}\n",
       "\n",
       "/* Label box, darken color on hover, fitted */\n",
       "#sk-container-id-1 div.sk-label.fitted:hover label.sk-toggleable__label.fitted {\n",
       "  color: var(--sklearn-color-text);\n",
       "  background-color: var(--sklearn-color-fitted-level-2);\n",
       "}\n",
       "\n",
       "/* Estimator label */\n",
       "\n",
       "#sk-container-id-1 div.sk-label label {\n",
       "  font-family: monospace;\n",
       "  font-weight: bold;\n",
       "  display: inline-block;\n",
       "  line-height: 1.2em;\n",
       "}\n",
       "\n",
       "#sk-container-id-1 div.sk-label-container {\n",
       "  text-align: center;\n",
       "}\n",
       "\n",
       "/* Estimator-specific */\n",
       "#sk-container-id-1 div.sk-estimator {\n",
       "  font-family: monospace;\n",
       "  border: 1px dotted var(--sklearn-color-border-box);\n",
       "  border-radius: 0.25em;\n",
       "  box-sizing: border-box;\n",
       "  margin-bottom: 0.5em;\n",
       "  /* unfitted */\n",
       "  background-color: var(--sklearn-color-unfitted-level-0);\n",
       "}\n",
       "\n",
       "#sk-container-id-1 div.sk-estimator.fitted {\n",
       "  /* fitted */\n",
       "  background-color: var(--sklearn-color-fitted-level-0);\n",
       "}\n",
       "\n",
       "/* on hover */\n",
       "#sk-container-id-1 div.sk-estimator:hover {\n",
       "  /* unfitted */\n",
       "  background-color: var(--sklearn-color-unfitted-level-2);\n",
       "}\n",
       "\n",
       "#sk-container-id-1 div.sk-estimator.fitted:hover {\n",
       "  /* fitted */\n",
       "  background-color: var(--sklearn-color-fitted-level-2);\n",
       "}\n",
       "\n",
       "/* Specification for estimator info (e.g. \"i\" and \"?\") */\n",
       "\n",
       "/* Common style for \"i\" and \"?\" */\n",
       "\n",
       ".sk-estimator-doc-link,\n",
       "a:link.sk-estimator-doc-link,\n",
       "a:visited.sk-estimator-doc-link {\n",
       "  float: right;\n",
       "  font-size: smaller;\n",
       "  line-height: 1em;\n",
       "  font-family: monospace;\n",
       "  background-color: var(--sklearn-color-background);\n",
       "  border-radius: 1em;\n",
       "  height: 1em;\n",
       "  width: 1em;\n",
       "  text-decoration: none !important;\n",
       "  margin-left: 0.5em;\n",
       "  text-align: center;\n",
       "  /* unfitted */\n",
       "  border: var(--sklearn-color-unfitted-level-1) 1pt solid;\n",
       "  color: var(--sklearn-color-unfitted-level-1);\n",
       "}\n",
       "\n",
       ".sk-estimator-doc-link.fitted,\n",
       "a:link.sk-estimator-doc-link.fitted,\n",
       "a:visited.sk-estimator-doc-link.fitted {\n",
       "  /* fitted */\n",
       "  border: var(--sklearn-color-fitted-level-1) 1pt solid;\n",
       "  color: var(--sklearn-color-fitted-level-1);\n",
       "}\n",
       "\n",
       "/* On hover */\n",
       "div.sk-estimator:hover .sk-estimator-doc-link:hover,\n",
       ".sk-estimator-doc-link:hover,\n",
       "div.sk-label-container:hover .sk-estimator-doc-link:hover,\n",
       ".sk-estimator-doc-link:hover {\n",
       "  /* unfitted */\n",
       "  background-color: var(--sklearn-color-unfitted-level-3);\n",
       "  color: var(--sklearn-color-background);\n",
       "  text-decoration: none;\n",
       "}\n",
       "\n",
       "div.sk-estimator.fitted:hover .sk-estimator-doc-link.fitted:hover,\n",
       ".sk-estimator-doc-link.fitted:hover,\n",
       "div.sk-label-container:hover .sk-estimator-doc-link.fitted:hover,\n",
       ".sk-estimator-doc-link.fitted:hover {\n",
       "  /* fitted */\n",
       "  background-color: var(--sklearn-color-fitted-level-3);\n",
       "  color: var(--sklearn-color-background);\n",
       "  text-decoration: none;\n",
       "}\n",
       "\n",
       "/* Span, style for the box shown on hovering the info icon */\n",
       ".sk-estimator-doc-link span {\n",
       "  display: none;\n",
       "  z-index: 9999;\n",
       "  position: relative;\n",
       "  font-weight: normal;\n",
       "  right: .2ex;\n",
       "  padding: .5ex;\n",
       "  margin: .5ex;\n",
       "  width: min-content;\n",
       "  min-width: 20ex;\n",
       "  max-width: 50ex;\n",
       "  color: var(--sklearn-color-text);\n",
       "  box-shadow: 2pt 2pt 4pt #999;\n",
       "  /* unfitted */\n",
       "  background: var(--sklearn-color-unfitted-level-0);\n",
       "  border: .5pt solid var(--sklearn-color-unfitted-level-3);\n",
       "}\n",
       "\n",
       ".sk-estimator-doc-link.fitted span {\n",
       "  /* fitted */\n",
       "  background: var(--sklearn-color-fitted-level-0);\n",
       "  border: var(--sklearn-color-fitted-level-3);\n",
       "}\n",
       "\n",
       ".sk-estimator-doc-link:hover span {\n",
       "  display: block;\n",
       "}\n",
       "\n",
       "/* \"?\"-specific style due to the `<a>` HTML tag */\n",
       "\n",
       "#sk-container-id-1 a.estimator_doc_link {\n",
       "  float: right;\n",
       "  font-size: 1rem;\n",
       "  line-height: 1em;\n",
       "  font-family: monospace;\n",
       "  background-color: var(--sklearn-color-background);\n",
       "  border-radius: 1rem;\n",
       "  height: 1rem;\n",
       "  width: 1rem;\n",
       "  text-decoration: none;\n",
       "  /* unfitted */\n",
       "  color: var(--sklearn-color-unfitted-level-1);\n",
       "  border: var(--sklearn-color-unfitted-level-1) 1pt solid;\n",
       "}\n",
       "\n",
       "#sk-container-id-1 a.estimator_doc_link.fitted {\n",
       "  /* fitted */\n",
       "  border: var(--sklearn-color-fitted-level-1) 1pt solid;\n",
       "  color: var(--sklearn-color-fitted-level-1);\n",
       "}\n",
       "\n",
       "/* On hover */\n",
       "#sk-container-id-1 a.estimator_doc_link:hover {\n",
       "  /* unfitted */\n",
       "  background-color: var(--sklearn-color-unfitted-level-3);\n",
       "  color: var(--sklearn-color-background);\n",
       "  text-decoration: none;\n",
       "}\n",
       "\n",
       "#sk-container-id-1 a.estimator_doc_link.fitted:hover {\n",
       "  /* fitted */\n",
       "  background-color: var(--sklearn-color-fitted-level-3);\n",
       "}\n",
       "\n",
       ".estimator-table summary {\n",
       "    padding: .5rem;\n",
       "    font-family: monospace;\n",
       "    cursor: pointer;\n",
       "}\n",
       "\n",
       ".estimator-table details[open] {\n",
       "    padding-left: 0.1rem;\n",
       "    padding-right: 0.1rem;\n",
       "    padding-bottom: 0.3rem;\n",
       "}\n",
       "\n",
       ".estimator-table .parameters-table {\n",
       "    margin-left: auto !important;\n",
       "    margin-right: auto !important;\n",
       "}\n",
       "\n",
       ".estimator-table .parameters-table tr:nth-child(odd) {\n",
       "    background-color: #fff;\n",
       "}\n",
       "\n",
       ".estimator-table .parameters-table tr:nth-child(even) {\n",
       "    background-color: #f6f6f6;\n",
       "}\n",
       "\n",
       ".estimator-table .parameters-table tr:hover {\n",
       "    background-color: #e0e0e0;\n",
       "}\n",
       "\n",
       ".estimator-table table td {\n",
       "    border: 1px solid rgba(106, 105, 104, 0.232);\n",
       "}\n",
       "\n",
       ".user-set td {\n",
       "    color:rgb(255, 94, 0);\n",
       "    text-align: left;\n",
       "}\n",
       "\n",
       ".user-set td.value pre {\n",
       "    color:rgb(255, 94, 0) !important;\n",
       "    background-color: transparent !important;\n",
       "}\n",
       "\n",
       ".default td {\n",
       "    color: black;\n",
       "    text-align: left;\n",
       "}\n",
       "\n",
       ".user-set td i,\n",
       ".default td i {\n",
       "    color: black;\n",
       "}\n",
       "\n",
       ".copy-paste-icon {\n",
       "    background-image: url(data:image/svg+xml;base64,PHN2ZyB4bWxucz0iaHR0cDovL3d3dy53My5vcmcvMjAwMC9zdmciIHZpZXdCb3g9IjAgMCA0NDggNTEyIj48IS0tIUZvbnQgQXdlc29tZSBGcmVlIDYuNy4yIGJ5IEBmb250YXdlc29tZSAtIGh0dHBzOi8vZm9udGF3ZXNvbWUuY29tIExpY2Vuc2UgLSBodHRwczovL2ZvbnRhd2Vzb21lLmNvbS9saWNlbnNlL2ZyZWUgQ29weXJpZ2h0IDIwMjUgRm9udGljb25zLCBJbmMuLS0+PHBhdGggZD0iTTIwOCAwTDMzMi4xIDBjMTIuNyAwIDI0LjkgNS4xIDMzLjkgMTQuMWw2Ny45IDY3LjljOSA5IDE0LjEgMjEuMiAxNC4xIDMzLjlMNDQ4IDMzNmMwIDI2LjUtMjEuNSA0OC00OCA0OGwtMTkyIDBjLTI2LjUgMC00OC0yMS41LTQ4LTQ4bDAtMjg4YzAtMjYuNSAyMS41LTQ4IDQ4LTQ4ek00OCAxMjhsODAgMCAwIDY0LTY0IDAgMCAyNTYgMTkyIDAgMC0zMiA2NCAwIDAgNDhjMCAyNi41LTIxLjUgNDgtNDggNDhMNDggNTEyYy0yNi41IDAtNDgtMjEuNS00OC00OEwwIDE3NmMwLTI2LjUgMjEuNS00OCA0OC00OHoiLz48L3N2Zz4=);\n",
       "    background-repeat: no-repeat;\n",
       "    background-size: 14px 14px;\n",
       "    background-position: 0;\n",
       "    display: inline-block;\n",
       "    width: 14px;\n",
       "    height: 14px;\n",
       "    cursor: pointer;\n",
       "}\n",
       "</style><body><div id=\"sk-container-id-1\" class=\"sk-top-container\"><div class=\"sk-text-repr-fallback\"><pre>ColumnTransformer(force_int_remainder_cols=False, n_jobs=-1,\n",
       "                  remainder=&#x27;passthrough&#x27;,\n",
       "                  transformers=[(&#x27;ohe&#x27;,\n",
       "                                 OneHotEncoder(drop=&#x27;first&#x27;,\n",
       "                                               sparse_output=False),\n",
       "                                 [&#x27;region&#x27;, &#x27;day_of_week&#x27;])])</pre><b>In a Jupyter environment, please rerun this cell to show the HTML representation or trust the notebook. <br />On GitHub, the HTML representation is unable to render, please try loading this page with nbviewer.org.</b></div><div class=\"sk-container\" hidden><div class=\"sk-item sk-dashed-wrapped\"><div class=\"sk-label-container\"><div class=\"sk-label  sk-toggleable\"><input class=\"sk-toggleable__control sk-hidden--visually\" id=\"sk-estimator-id-1\" type=\"checkbox\" ><label for=\"sk-estimator-id-1\" class=\"sk-toggleable__label  sk-toggleable__label-arrow\"><div><div>ColumnTransformer</div></div><div><a class=\"sk-estimator-doc-link \" rel=\"noreferrer\" target=\"_blank\" href=\"https://scikit-learn.org/1.7/modules/generated/sklearn.compose.ColumnTransformer.html\">?<span>Documentation for ColumnTransformer</span></a><span class=\"sk-estimator-doc-link \">i<span>Not fitted</span></span></div></label><div class=\"sk-toggleable__content \" data-param-prefix=\"\">\n",
       "        <div class=\"estimator-table\">\n",
       "            <details>\n",
       "                <summary>Parameters</summary>\n",
       "                <table class=\"parameters-table\">\n",
       "                  <tbody>\n",
       "                    \n",
       "        <tr class=\"user-set\">\n",
       "            <td><i class=\"copy-paste-icon\"\n",
       "                 onclick=\"copyToClipboard('transformers',\n",
       "                          this.parentElement.nextElementSibling)\"\n",
       "            ></i></td>\n",
       "            <td class=\"param\">transformers&nbsp;</td>\n",
       "            <td class=\"value\">[(&#x27;ohe&#x27;, ...)]</td>\n",
       "        </tr>\n",
       "    \n",
       "\n",
       "        <tr class=\"user-set\">\n",
       "            <td><i class=\"copy-paste-icon\"\n",
       "                 onclick=\"copyToClipboard('remainder',\n",
       "                          this.parentElement.nextElementSibling)\"\n",
       "            ></i></td>\n",
       "            <td class=\"param\">remainder&nbsp;</td>\n",
       "            <td class=\"value\">&#x27;passthrough&#x27;</td>\n",
       "        </tr>\n",
       "    \n",
       "\n",
       "        <tr class=\"default\">\n",
       "            <td><i class=\"copy-paste-icon\"\n",
       "                 onclick=\"copyToClipboard('sparse_threshold',\n",
       "                          this.parentElement.nextElementSibling)\"\n",
       "            ></i></td>\n",
       "            <td class=\"param\">sparse_threshold&nbsp;</td>\n",
       "            <td class=\"value\">0.3</td>\n",
       "        </tr>\n",
       "    \n",
       "\n",
       "        <tr class=\"user-set\">\n",
       "            <td><i class=\"copy-paste-icon\"\n",
       "                 onclick=\"copyToClipboard('n_jobs',\n",
       "                          this.parentElement.nextElementSibling)\"\n",
       "            ></i></td>\n",
       "            <td class=\"param\">n_jobs&nbsp;</td>\n",
       "            <td class=\"value\">-1</td>\n",
       "        </tr>\n",
       "    \n",
       "\n",
       "        <tr class=\"default\">\n",
       "            <td><i class=\"copy-paste-icon\"\n",
       "                 onclick=\"copyToClipboard('transformer_weights',\n",
       "                          this.parentElement.nextElementSibling)\"\n",
       "            ></i></td>\n",
       "            <td class=\"param\">transformer_weights&nbsp;</td>\n",
       "            <td class=\"value\">None</td>\n",
       "        </tr>\n",
       "    \n",
       "\n",
       "        <tr class=\"default\">\n",
       "            <td><i class=\"copy-paste-icon\"\n",
       "                 onclick=\"copyToClipboard('verbose',\n",
       "                          this.parentElement.nextElementSibling)\"\n",
       "            ></i></td>\n",
       "            <td class=\"param\">verbose&nbsp;</td>\n",
       "            <td class=\"value\">False</td>\n",
       "        </tr>\n",
       "    \n",
       "\n",
       "        <tr class=\"default\">\n",
       "            <td><i class=\"copy-paste-icon\"\n",
       "                 onclick=\"copyToClipboard('verbose_feature_names_out',\n",
       "                          this.parentElement.nextElementSibling)\"\n",
       "            ></i></td>\n",
       "            <td class=\"param\">verbose_feature_names_out&nbsp;</td>\n",
       "            <td class=\"value\">True</td>\n",
       "        </tr>\n",
       "    \n",
       "\n",
       "        <tr class=\"user-set\">\n",
       "            <td><i class=\"copy-paste-icon\"\n",
       "                 onclick=\"copyToClipboard('force_int_remainder_cols',\n",
       "                          this.parentElement.nextElementSibling)\"\n",
       "            ></i></td>\n",
       "            <td class=\"param\">force_int_remainder_cols&nbsp;</td>\n",
       "            <td class=\"value\">False</td>\n",
       "        </tr>\n",
       "    \n",
       "                  </tbody>\n",
       "                </table>\n",
       "            </details>\n",
       "        </div>\n",
       "    </div></div></div><div class=\"sk-parallel\"><div class=\"sk-parallel-item\"><div class=\"sk-item\"><div class=\"sk-label-container\"><div class=\"sk-label  sk-toggleable\"><input class=\"sk-toggleable__control sk-hidden--visually\" id=\"sk-estimator-id-2\" type=\"checkbox\" ><label for=\"sk-estimator-id-2\" class=\"sk-toggleable__label  sk-toggleable__label-arrow\"><div><div>ohe</div></div></label><div class=\"sk-toggleable__content \" data-param-prefix=\"ohe__\"><pre>[&#x27;region&#x27;, &#x27;day_of_week&#x27;]</pre></div></div></div><div class=\"sk-serial\"><div class=\"sk-item\"><div class=\"sk-estimator  sk-toggleable\"><input class=\"sk-toggleable__control sk-hidden--visually\" id=\"sk-estimator-id-3\" type=\"checkbox\" ><label for=\"sk-estimator-id-3\" class=\"sk-toggleable__label  sk-toggleable__label-arrow\"><div><div>OneHotEncoder</div></div><div><a class=\"sk-estimator-doc-link \" rel=\"noreferrer\" target=\"_blank\" href=\"https://scikit-learn.org/1.7/modules/generated/sklearn.preprocessing.OneHotEncoder.html\">?<span>Documentation for OneHotEncoder</span></a></div></label><div class=\"sk-toggleable__content \" data-param-prefix=\"ohe__\">\n",
       "        <div class=\"estimator-table\">\n",
       "            <details>\n",
       "                <summary>Parameters</summary>\n",
       "                <table class=\"parameters-table\">\n",
       "                  <tbody>\n",
       "                    \n",
       "        <tr class=\"default\">\n",
       "            <td><i class=\"copy-paste-icon\"\n",
       "                 onclick=\"copyToClipboard('categories',\n",
       "                          this.parentElement.nextElementSibling)\"\n",
       "            ></i></td>\n",
       "            <td class=\"param\">categories&nbsp;</td>\n",
       "            <td class=\"value\">&#x27;auto&#x27;</td>\n",
       "        </tr>\n",
       "    \n",
       "\n",
       "        <tr class=\"user-set\">\n",
       "            <td><i class=\"copy-paste-icon\"\n",
       "                 onclick=\"copyToClipboard('drop',\n",
       "                          this.parentElement.nextElementSibling)\"\n",
       "            ></i></td>\n",
       "            <td class=\"param\">drop&nbsp;</td>\n",
       "            <td class=\"value\">&#x27;first&#x27;</td>\n",
       "        </tr>\n",
       "    \n",
       "\n",
       "        <tr class=\"user-set\">\n",
       "            <td><i class=\"copy-paste-icon\"\n",
       "                 onclick=\"copyToClipboard('sparse_output',\n",
       "                          this.parentElement.nextElementSibling)\"\n",
       "            ></i></td>\n",
       "            <td class=\"param\">sparse_output&nbsp;</td>\n",
       "            <td class=\"value\">False</td>\n",
       "        </tr>\n",
       "    \n",
       "\n",
       "        <tr class=\"default\">\n",
       "            <td><i class=\"copy-paste-icon\"\n",
       "                 onclick=\"copyToClipboard('dtype',\n",
       "                          this.parentElement.nextElementSibling)\"\n",
       "            ></i></td>\n",
       "            <td class=\"param\">dtype&nbsp;</td>\n",
       "            <td class=\"value\">&lt;class &#x27;numpy.float64&#x27;&gt;</td>\n",
       "        </tr>\n",
       "    \n",
       "\n",
       "        <tr class=\"default\">\n",
       "            <td><i class=\"copy-paste-icon\"\n",
       "                 onclick=\"copyToClipboard('handle_unknown',\n",
       "                          this.parentElement.nextElementSibling)\"\n",
       "            ></i></td>\n",
       "            <td class=\"param\">handle_unknown&nbsp;</td>\n",
       "            <td class=\"value\">&#x27;error&#x27;</td>\n",
       "        </tr>\n",
       "    \n",
       "\n",
       "        <tr class=\"default\">\n",
       "            <td><i class=\"copy-paste-icon\"\n",
       "                 onclick=\"copyToClipboard('min_frequency',\n",
       "                          this.parentElement.nextElementSibling)\"\n",
       "            ></i></td>\n",
       "            <td class=\"param\">min_frequency&nbsp;</td>\n",
       "            <td class=\"value\">None</td>\n",
       "        </tr>\n",
       "    \n",
       "\n",
       "        <tr class=\"default\">\n",
       "            <td><i class=\"copy-paste-icon\"\n",
       "                 onclick=\"copyToClipboard('max_categories',\n",
       "                          this.parentElement.nextElementSibling)\"\n",
       "            ></i></td>\n",
       "            <td class=\"param\">max_categories&nbsp;</td>\n",
       "            <td class=\"value\">None</td>\n",
       "        </tr>\n",
       "    \n",
       "\n",
       "        <tr class=\"default\">\n",
       "            <td><i class=\"copy-paste-icon\"\n",
       "                 onclick=\"copyToClipboard('feature_name_combiner',\n",
       "                          this.parentElement.nextElementSibling)\"\n",
       "            ></i></td>\n",
       "            <td class=\"param\">feature_name_combiner&nbsp;</td>\n",
       "            <td class=\"value\">&#x27;concat&#x27;</td>\n",
       "        </tr>\n",
       "    \n",
       "                  </tbody>\n",
       "                </table>\n",
       "            </details>\n",
       "        </div>\n",
       "    </div></div></div></div></div></div><div class=\"sk-parallel-item\"><div class=\"sk-item\"><div class=\"sk-label-container\"><div class=\"sk-label  sk-toggleable\"><input class=\"sk-toggleable__control sk-hidden--visually\" id=\"sk-estimator-id-4\" type=\"checkbox\" ><label for=\"sk-estimator-id-4\" class=\"sk-toggleable__label  sk-toggleable__label-arrow\"><div><div>remainder</div></div></label><div class=\"sk-toggleable__content \" data-param-prefix=\"remainder__\"></div></div><div class=\"sk-serial\"><div class=\"sk-item\"><div class=\"sk-estimator  sk-toggleable\"><input class=\"sk-toggleable__control sk-hidden--visually\" id=\"sk-estimator-id-5\" type=\"checkbox\" ><label for=\"sk-estimator-id-5\" class=\"sk-toggleable__label  sk-toggleable__label-arrow\"><div><div>passthrough</div></div></label><div class=\"sk-toggleable__content \" data-param-prefix=\"remainder__\"><pre>passthrough</pre></div></div></div></div></div></div></div></div></div></div><script>function copyToClipboard(text, element) {\n",
       "    // Get the parameter prefix from the closest toggleable content\n",
       "    const toggleableContent = element.closest('.sk-toggleable__content');\n",
       "    const paramPrefix = toggleableContent ? toggleableContent.dataset.paramPrefix : '';\n",
       "    const fullParamName = paramPrefix ? `${paramPrefix}${text}` : text;\n",
       "\n",
       "    const originalStyle = element.style;\n",
       "    const computedStyle = window.getComputedStyle(element);\n",
       "    const originalWidth = computedStyle.width;\n",
       "    const originalHTML = element.innerHTML.replace('Copied!', '');\n",
       "\n",
       "    navigator.clipboard.writeText(fullParamName)\n",
       "        .then(() => {\n",
       "            element.style.width = originalWidth;\n",
       "            element.style.color = 'green';\n",
       "            element.innerHTML = \"Copied!\";\n",
       "\n",
       "            setTimeout(() => {\n",
       "                element.innerHTML = originalHTML;\n",
       "                element.style = originalStyle;\n",
       "            }, 2000);\n",
       "        })\n",
       "        .catch(err => {\n",
       "            console.error('Failed to copy:', err);\n",
       "            element.style.color = 'red';\n",
       "            element.innerHTML = \"Failed!\";\n",
       "            setTimeout(() => {\n",
       "                element.innerHTML = originalHTML;\n",
       "                element.style = originalStyle;\n",
       "            }, 2000);\n",
       "        });\n",
       "    return false;\n",
       "}\n",
       "\n",
       "document.querySelectorAll('.fa-regular.fa-copy').forEach(function(element) {\n",
       "    const toggleableContent = element.closest('.sk-toggleable__content');\n",
       "    const paramPrefix = toggleableContent ? toggleableContent.dataset.paramPrefix : '';\n",
       "    const paramName = element.parentElement.nextElementSibling.textContent.trim();\n",
       "    const fullParamName = paramPrefix ? `${paramPrefix}${paramName}` : paramName;\n",
       "\n",
       "    element.setAttribute('title', fullParamName);\n",
       "});\n",
       "</script></body>"
      ],
      "text/plain": [
       "ColumnTransformer(force_int_remainder_cols=False, n_jobs=-1,\n",
       "                  remainder='passthrough',\n",
       "                  transformers=[('ohe',\n",
       "                                 OneHotEncoder(drop='first',\n",
       "                                               sparse_output=False),\n",
       "                                 ['region', 'day_of_week'])])"
      ]
     },
     "execution_count": 14,
     "metadata": {},
     "output_type": "execute_result"
    }
   ],
   "source": [
    "encoder"
   ]
  },
  {
   "cell_type": "code",
   "execution_count": 15,
   "id": "0c20d41f",
   "metadata": {},
   "outputs": [
    {
     "name": "stderr",
     "output_type": "stream",
     "text": [
      "/mnt/c/Users/jatin/Desktop/My/my skills/wsl_proj/uber/lib/python3.13/site-packages/sklearn/compose/_column_transformer.py:975: FutureWarning: The parameter `force_int_remainder_cols` is deprecated and will be removed in 1.9. It has no effect. Leave it to its default value to avoid this warning.\n",
      "  warnings.warn(\n"
     ]
    }
   ],
   "source": [
    "# encode the train and test data\n",
    "\n",
    "X_train_encoded = encoder.fit_transform(X_train)\n",
    "X_test_encoded = encoder.transform(X_test)"
   ]
  },
  {
   "cell_type": "code",
   "execution_count": 16,
   "id": "29dbb940",
   "metadata": {},
   "outputs": [
    {
     "name": "stderr",
     "output_type": "stream",
     "text": [
      "/mnt/c/Users/jatin/Desktop/My/my skills/wsl_proj/uber/lib/python3.13/site-packages/tqdm/auto.py:21: TqdmWarning: IProgress not found. Please update jupyter and ipywidgets. See https://ipywidgets.readthedocs.io/en/stable/user_install.html\n",
      "  from .autonotebook import tqdm as notebook_tqdm\n"
     ]
    }
   ],
   "source": [
    "import optuna\n",
    "import tqdm "
   ]
  },
  {
   "cell_type": "code",
   "execution_count": 17,
   "id": "b83a3495",
   "metadata": {},
   "outputs": [
    {
     "name": "stderr",
     "output_type": "stream",
     "text": [
      "2025/07/14 19:20:32 INFO mlflow.tracking.fluent: Experiment with name 'Model Selection' does not exist. Creating a new experiment.\n"
     ]
    },
    {
     "data": {
      "text/plain": [
       "<Experiment: artifact_location='mlflow-artifacts:/be86187d05574ccb83f9d060e8ffbd27', creation_time=1752492031440, experiment_id='0', last_update_time=1752492031440, lifecycle_stage='active', name='Model Selection', tags={}>"
      ]
     },
     "execution_count": 17,
     "metadata": {},
     "output_type": "execute_result"
    }
   ],
   "source": [
    "# set the experiment\n",
    "\n",
    "mlflow.set_experiment(\"Model Selection\")"
   ]
  },
  {
   "cell_type": "code",
   "execution_count": 19,
   "id": "ac0e3d66",
   "metadata": {},
   "outputs": [],
   "source": [
    "def objective(trial):\n",
    "    # start the child run\n",
    "    with mlflow.start_run(nested=True) as child:\n",
    "        \n",
    "        # model name search space\n",
    "        list_of_models = [\"LR\", \"RF\", \"GBR\", \"XGBR\"]\n",
    "        model_name = trial.suggest_categorical(\"model_name\", list_of_models)\n",
    "    \n",
    "        if model_name == \"LR\":\n",
    "            model = LinearRegression()\n",
    "    \n",
    "        elif model_name == \"RF\":\n",
    "            n_estimators_rf = trial.suggest_int(\"n_estimators_rf\",10,100,step=10)\n",
    "            max_depth_rf = trial.suggest_int(\"max_depth_rf\",3,10)\n",
    "            model = RandomForestRegressor(n_estimators=n_estimators_rf, \n",
    "                                          max_depth=max_depth_rf, \n",
    "                                          random_state=42, n_jobs=-1)\n",
    "    \n",
    "        elif model_name == \"GBR\":\n",
    "            n_estimators_gb = trial.suggest_int(\"n_estimators_gb\",10,100,step=10)\n",
    "            learning_rate_gb = trial.suggest_float(\"learning_rate_gb\",1e-4,1e-1, log=True)\n",
    "            model = GradientBoostingRegressor(n_estimators=n_estimators_gb, \n",
    "                                              learning_rate=learning_rate_gb,\n",
    "                                             random_state=42)\n",
    "    \n",
    "        elif model_name == \"XGBR\":\n",
    "            n_estimators_xgb = trial.suggest_int(\"n_estimators_xgb\",10,100,step=10)\n",
    "            learning_rate_xgb = trial.suggest_float(\"learning_rate_xgb\",1e-4,1e-1, log=True)\n",
    "            max_depth_xgb = trial.suggest_int(\"max_depth_xgb\",3,10)\n",
    "            model = XGBRegressor(n_estimators=n_estimators_xgb,\n",
    "                                learning_rate=learning_rate_xgb,\n",
    "                                max_depth=max_depth_xgb,\n",
    "                                tree_method='gpu_hist',  \n",
    "                                gpu_id=0)\n",
    "    \n",
    "        # log the model name\n",
    "        mlflow.log_param(\"model_name\",model_name)\n",
    "        \n",
    "        # log the model parameters\n",
    "        mlflow.log_params(model.get_params())\n",
    "\n",
    "        # fit on the data\n",
    "        model.fit(X_train_encoded,y_train)\n",
    "    \n",
    "        # get the predictions\n",
    "        y_pred = model.predict(X_test_encoded)\n",
    "    \n",
    "        # calculate the loss\n",
    "        loss = mean_absolute_percentage_error(y_test, y_pred)\n",
    "    \n",
    "        # log the metric\n",
    "        mlflow.log_metric(\"MAPE\",loss)\n",
    "        return loss"
   ]
  },
  {
   "cell_type": "code",
   "execution_count": 20,
   "id": "13dd7194",
   "metadata": {},
   "outputs": [
    {
     "name": "stderr",
     "output_type": "stream",
     "text": [
      "[I 2025-07-14 19:35:31,085] A new study created in memory with name: model_selection\n"
     ]
    },
    {
     "name": "stdout",
     "output_type": "stream",
     "text": [
      "🏃 View run amusing-crab-73 at: https://dagshub.com/maverick011/Uber-Demand-Prediction.mlflow/#/experiments/0/runs/a5b383a25f7247729aa5d2f171d03bd6\n",
      "🧪 View experiment at: https://dagshub.com/maverick011/Uber-Demand-Prediction.mlflow/#/experiments/0\n"
     ]
    },
    {
     "name": "stderr",
     "output_type": "stream",
     "text": [
      "[I 2025-07-14 19:35:46,610] Trial 0 finished with value: 0.3466868818531784 and parameters: {'model_name': 'RF', 'n_estimators_rf': 50, 'max_depth_rf': 4}. Best is trial 0 with value: 0.3466868818531784.\n"
     ]
    },
    {
     "name": "stdout",
     "output_type": "stream",
     "text": [
      "🏃 View run stately-skink-18 at: https://dagshub.com/maverick011/Uber-Demand-Prediction.mlflow/#/experiments/0/runs/0251ec1de9954107b4a0bfb9eefd3a1d\n",
      "🧪 View experiment at: https://dagshub.com/maverick011/Uber-Demand-Prediction.mlflow/#/experiments/0\n"
     ]
    },
    {
     "name": "stderr",
     "output_type": "stream",
     "text": [
      "[I 2025-07-14 19:35:56,924] Trial 2 finished with value: 0.34297658634125283 and parameters: {'model_name': 'RF', 'n_estimators_rf': 10, 'max_depth_rf': 4}. Best is trial 2 with value: 0.34297658634125283.\n"
     ]
    },
    {
     "name": "stdout",
     "output_type": "stream",
     "text": [
      "🏃 View run judicious-goat-860 at: https://dagshub.com/maverick011/Uber-Demand-Prediction.mlflow/#/experiments/0/runs/2b6f7468c2c74dbc95af949ab2358110\n",
      "🧪 View experiment at: https://dagshub.com/maverick011/Uber-Demand-Prediction.mlflow/#/experiments/0\n",
      "🏃 View run masked-asp-235 at: https://dagshub.com/maverick011/Uber-Demand-Prediction.mlflow/#/experiments/0/runs/428abae35708443885b914909ab93cf1\n",
      "🧪 View experiment at: https://dagshub.com/maverick011/Uber-Demand-Prediction.mlflow/#/experiments/0\n"
     ]
    },
    {
     "name": "stderr",
     "output_type": "stream",
     "text": [
      "[I 2025-07-14 19:36:05,151] Trial 3 finished with value: 0.5443209920941998 and parameters: {'model_name': 'RF', 'n_estimators_rf': 100, 'max_depth_rf': 3}. Best is trial 2 with value: 0.34297658634125283.\n",
      "[19:36:06] WARNING: /workspace/src/common/error_msg.cc:45: `gpu_id` is deprecated since2.0.0, use `device` instead. E.g. device=cpu/cuda/cuda:0\n",
      "[19:36:06] WARNING: /workspace/src/common/error_msg.cc:27: The tree method `gpu_hist` is deprecated since 2.0.0. To use GPU training, set the `device` parameter to CUDA instead.\n",
      "\n",
      "    E.g. tree_method = \"hist\", device = \"cuda\"\n",
      "\n",
      "[I 2025-07-14 19:36:09,317] Trial 4 finished with value: 0.17696513204101527 and parameters: {'model_name': 'RF', 'n_estimators_rf': 50, 'max_depth_rf': 7}. Best is trial 4 with value: 0.17696513204101527.\n",
      "[19:36:11] WARNING: /workspace/src/common/error_msg.cc:27: The tree method `gpu_hist` is deprecated since 2.0.0. To use GPU training, set the `device` parameter to CUDA instead.\n",
      "\n",
      "    E.g. tree_method = \"hist\", device = \"cuda\"\n",
      "\n",
      "[19:36:11] WARNING: /workspace/src/common/error_msg.cc:58: Falling back to prediction using DMatrix due to mismatched devices. This might lead to higher memory usage and slower performance. XGBoost is running on: cuda:0, while the input data is on: cpu.\n",
      "Potential solutions:\n",
      "- Use a data structure that matches the device ordinal in the booster.\n",
      "- Set the device for booster before call to inplace_predict.\n",
      "\n",
      "This warning will only be shown once.\n",
      "\n"
     ]
    },
    {
     "name": "stdout",
     "output_type": "stream",
     "text": [
      "🏃 View run entertaining-gnu-162 at: https://dagshub.com/maverick011/Uber-Demand-Prediction.mlflow/#/experiments/0/runs/a8900a2df2264a94aa2b3e247e7ed098\n",
      "🧪 View experiment at: https://dagshub.com/maverick011/Uber-Demand-Prediction.mlflow/#/experiments/0\n",
      "🏃 View run puzzled-dog-53 at: https://dagshub.com/maverick011/Uber-Demand-Prediction.mlflow/#/experiments/0/runs/6ff17e8b03d84e588b72bba665ef0e1a\n",
      "🧪 View experiment at: https://dagshub.com/maverick011/Uber-Demand-Prediction.mlflow/#/experiments/0\n"
     ]
    },
    {
     "name": "stderr",
     "output_type": "stream",
     "text": [
      "[I 2025-07-14 19:36:16,576] Trial 1 finished with value: 6.438767475411499 and parameters: {'model_name': 'GBR', 'n_estimators_gb': 50, 'learning_rate_gb': 0.0004519784847378164}. Best is trial 4 with value: 0.17696513204101527.\n",
      "[19:36:20] WARNING: /workspace/src/common/error_msg.cc:27: The tree method `gpu_hist` is deprecated since 2.0.0. To use GPU training, set the `device` parameter to CUDA instead.\n",
      "\n",
      "    E.g. tree_method = \"hist\", device = \"cuda\"\n",
      "\n",
      "[19:36:21] WARNING: /workspace/src/common/error_msg.cc:27: The tree method `gpu_hist` is deprecated since 2.0.0. To use GPU training, set the `device` parameter to CUDA instead.\n",
      "\n",
      "    E.g. tree_method = \"hist\", device = \"cuda\"\n",
      "\n",
      "[I 2025-07-14 19:36:21,704] Trial 5 finished with value: 6.506016331221051 and parameters: {'model_name': 'GBR', 'n_estimators_gb': 70, 'learning_rate_gb': 0.00016560142221003153}. Best is trial 4 with value: 0.17696513204101527.\n"
     ]
    },
    {
     "name": "stdout",
     "output_type": "stream",
     "text": [
      "🏃 View run upset-lynx-379 at: https://dagshub.com/maverick011/Uber-Demand-Prediction.mlflow/#/experiments/0/runs/af65e2a765c7483ba831934cefbd05a8\n",
      "🧪 View experiment at: https://dagshub.com/maverick011/Uber-Demand-Prediction.mlflow/#/experiments/0\n",
      "🏃 View run bedecked-skink-652 at: https://dagshub.com/maverick011/Uber-Demand-Prediction.mlflow/#/experiments/0/runs/13f0b32d7a894de68b6f2fd2afd0b422\n",
      "🧪 View experiment at: https://dagshub.com/maverick011/Uber-Demand-Prediction.mlflow/#/experiments/0\n"
     ]
    },
    {
     "name": "stderr",
     "output_type": "stream",
     "text": [
      "[19:36:40] WARNING: /workspace/src/common/error_msg.cc:27: The tree method `gpu_hist` is deprecated since 2.0.0. To use GPU training, set the `device` parameter to CUDA instead.\n",
      "\n",
      "    E.g. tree_method = \"hist\", device = \"cuda\"\n",
      "\n",
      "[19:36:40] WARNING: /workspace/src/common/error_msg.cc:27: The tree method `gpu_hist` is deprecated since 2.0.0. To use GPU training, set the `device` parameter to CUDA instead.\n",
      "\n",
      "    E.g. tree_method = \"hist\", device = \"cuda\"\n",
      "\n",
      "[I 2025-07-14 19:36:41,285] Trial 6 finished with value: 1.9527190923690796 and parameters: {'model_name': 'XGBR', 'n_estimators_xgb': 80, 'learning_rate_xgb': 0.015928447835696483, 'max_depth_xgb': 4}. Best is trial 4 with value: 0.17696513204101527.\n",
      "[I 2025-07-14 19:36:42,411] Trial 7 finished with value: 0.17757159724163896 and parameters: {'model_name': 'RF', 'n_estimators_rf': 20, 'max_depth_rf': 7}. Best is trial 4 with value: 0.17696513204101527.\n"
     ]
    },
    {
     "name": "stdout",
     "output_type": "stream",
     "text": [
      "🏃 View run enthused-worm-751 at: https://dagshub.com/maverick011/Uber-Demand-Prediction.mlflow/#/experiments/0/runs/a34991f3045848da9248c4750c9c0c03\n",
      "🧪 View experiment at: https://dagshub.com/maverick011/Uber-Demand-Prediction.mlflow/#/experiments/0\n",
      "🏃 View run bittersweet-ray-670 at: https://dagshub.com/maverick011/Uber-Demand-Prediction.mlflow/#/experiments/0/runs/304de6bf4ad84351acd2f2b6a746c905\n",
      "🧪 View experiment at: https://dagshub.com/maverick011/Uber-Demand-Prediction.mlflow/#/experiments/0\n"
     ]
    },
    {
     "name": "stderr",
     "output_type": "stream",
     "text": [
      "[I 2025-07-14 19:36:48,580] Trial 8 finished with value: 6.510979652404785 and parameters: {'model_name': 'XGBR', 'n_estimators_xgb': 40, 'learning_rate_xgb': 0.00025768571197843954, 'max_depth_xgb': 7}. Best is trial 4 with value: 0.17696513204101527.\n",
      "[I 2025-07-14 19:36:52,723] Trial 9 finished with value: 0.07934790285463403 and parameters: {'model_name': 'LR'}. Best is trial 9 with value: 0.07934790285463403.\n"
     ]
    },
    {
     "name": "stdout",
     "output_type": "stream",
     "text": [
      "🏃 View run glamorous-fly-916 at: https://dagshub.com/maverick011/Uber-Demand-Prediction.mlflow/#/experiments/0/runs/3d945fc7308a4bd38b271d8b1e2dcf9e\n",
      "🧪 View experiment at: https://dagshub.com/maverick011/Uber-Demand-Prediction.mlflow/#/experiments/0\n"
     ]
    },
    {
     "name": "stderr",
     "output_type": "stream",
     "text": [
      "[I 2025-07-14 19:37:08,167] Trial 11 finished with value: 6.455358982086182 and parameters: {'model_name': 'XGBR', 'n_estimators_xgb': 70, 'learning_rate_xgb': 0.0002730965183876366, 'max_depth_xgb': 5}. Best is trial 9 with value: 0.07934790285463403.\n"
     ]
    },
    {
     "name": "stdout",
     "output_type": "stream",
     "text": [
      "🏃 View run silent-panda-648 at: https://dagshub.com/maverick011/Uber-Demand-Prediction.mlflow/#/experiments/0/runs/7095e8d766c2453da59ba72dd0573f41\n",
      "🧪 View experiment at: https://dagshub.com/maverick011/Uber-Demand-Prediction.mlflow/#/experiments/0\n"
     ]
    },
    {
     "name": "stderr",
     "output_type": "stream",
     "text": [
      "[I 2025-07-14 19:37:14,412] Trial 10 finished with value: 6.458682173798339 and parameters: {'model_name': 'GBR', 'n_estimators_gb': 70, 'learning_rate_gb': 0.0002761208982518442}. Best is trial 9 with value: 0.07934790285463403.\n"
     ]
    },
    {
     "name": "stdout",
     "output_type": "stream",
     "text": [
      "🏃 View run bemused-sloth-614 at: https://dagshub.com/maverick011/Uber-Demand-Prediction.mlflow/#/experiments/0/runs/f36a7f0bb0a14591b47b01477357a42a\n",
      "🧪 View experiment at: https://dagshub.com/maverick011/Uber-Demand-Prediction.mlflow/#/experiments/0\n",
      "🏃 View run stately-perch-146 at: https://dagshub.com/maverick011/Uber-Demand-Prediction.mlflow/#/experiments/0/runs/9b3a5dcd6f494c19a8bb1dbd4ef96c21\n",
      "🧪 View experiment at: https://dagshub.com/maverick011/Uber-Demand-Prediction.mlflow/#/experiments/0\n"
     ]
    },
    {
     "name": "stderr",
     "output_type": "stream",
     "text": [
      "[I 2025-07-14 19:37:28,844] Trial 13 finished with value: 0.07934790285463403 and parameters: {'model_name': 'LR'}. Best is trial 9 with value: 0.07934790285463403.\n"
     ]
    },
    {
     "name": "stdout",
     "output_type": "stream",
     "text": [
      "🏃 View run nebulous-shark-990 at: https://dagshub.com/maverick011/Uber-Demand-Prediction.mlflow/#/experiments/0/runs/b9a93ecb52ef42149af0ac829161ac55\n",
      "🧪 View experiment at: https://dagshub.com/maverick011/Uber-Demand-Prediction.mlflow/#/experiments/0\n"
     ]
    },
    {
     "name": "stderr",
     "output_type": "stream",
     "text": [
      "[I 2025-07-14 19:37:30,896] Trial 12 finished with value: 0.8567558024188635 and parameters: {'model_name': 'GBR', 'n_estimators_gb': 30, 'learning_rate_gb': 0.0753031874649297}. Best is trial 9 with value: 0.07934790285463403.\n"
     ]
    },
    {
     "name": "stdout",
     "output_type": "stream",
     "text": [
      "🏃 View run peaceful-colt-133 at: https://dagshub.com/maverick011/Uber-Demand-Prediction.mlflow/#/experiments/0/runs/b59b542d6d134e4296556b37320319c9\n",
      "🧪 View experiment at: https://dagshub.com/maverick011/Uber-Demand-Prediction.mlflow/#/experiments/0\n"
     ]
    },
    {
     "name": "stderr",
     "output_type": "stream",
     "text": [
      "[I 2025-07-14 19:37:36,040] Trial 14 finished with value: 0.07934790285463403 and parameters: {'model_name': 'LR'}. Best is trial 9 with value: 0.07934790285463403.\n",
      "[I 2025-07-14 19:37:40,176] Trial 15 finished with value: 0.07934790285463403 and parameters: {'model_name': 'LR'}. Best is trial 9 with value: 0.07934790285463403.\n"
     ]
    },
    {
     "name": "stdout",
     "output_type": "stream",
     "text": [
      "🏃 View run hilarious-crow-24 at: https://dagshub.com/maverick011/Uber-Demand-Prediction.mlflow/#/experiments/0/runs/2090165659344dd38ea9f6b23b3fdcfd\n",
      "🧪 View experiment at: https://dagshub.com/maverick011/Uber-Demand-Prediction.mlflow/#/experiments/0\n"
     ]
    },
    {
     "name": "stderr",
     "output_type": "stream",
     "text": [
      "[I 2025-07-14 19:37:55,715] Trial 16 finished with value: 0.07934790285463403 and parameters: {'model_name': 'LR'}. Best is trial 9 with value: 0.07934790285463403.\n"
     ]
    },
    {
     "name": "stdout",
     "output_type": "stream",
     "text": [
      "🏃 View run rebellious-shad-274 at: https://dagshub.com/maverick011/Uber-Demand-Prediction.mlflow/#/experiments/0/runs/05aaf1f9bf3746aaa3e3f570aed6947a\n",
      "🧪 View experiment at: https://dagshub.com/maverick011/Uber-Demand-Prediction.mlflow/#/experiments/0\n"
     ]
    },
    {
     "name": "stderr",
     "output_type": "stream",
     "text": [
      "[I 2025-07-14 19:38:02,932] Trial 17 finished with value: 0.07934790285463403 and parameters: {'model_name': 'LR'}. Best is trial 9 with value: 0.07934790285463403.\n"
     ]
    },
    {
     "name": "stdout",
     "output_type": "stream",
     "text": [
      "🏃 View run merciful-smelt-862 at: https://dagshub.com/maverick011/Uber-Demand-Prediction.mlflow/#/experiments/0/runs/ff6c6debe49740bab2080cb7ccab7079\n",
      "🧪 View experiment at: https://dagshub.com/maverick011/Uber-Demand-Prediction.mlflow/#/experiments/0\n",
      "🏃 View run adaptable-cod-444 at: https://dagshub.com/maverick011/Uber-Demand-Prediction.mlflow/#/experiments/0/runs/8b1abc929814440ea13de432dd951968\n",
      "🧪 View experiment at: https://dagshub.com/maverick011/Uber-Demand-Prediction.mlflow/#/experiments/0\n"
     ]
    },
    {
     "name": "stderr",
     "output_type": "stream",
     "text": [
      "[I 2025-07-14 19:38:16,409] Trial 18 finished with value: 0.07934790285463403 and parameters: {'model_name': 'LR'}. Best is trial 9 with value: 0.07934790285463403.\n"
     ]
    },
    {
     "name": "stdout",
     "output_type": "stream",
     "text": [
      "🏃 View run overjoyed-ant-390 at: https://dagshub.com/maverick011/Uber-Demand-Prediction.mlflow/#/experiments/0/runs/5622301af4a342fdab985a603ad96805\n",
      "🧪 View experiment at: https://dagshub.com/maverick011/Uber-Demand-Prediction.mlflow/#/experiments/0\n"
     ]
    },
    {
     "name": "stderr",
     "output_type": "stream",
     "text": [
      "[I 2025-07-14 19:38:18,466] Trial 19 finished with value: 0.07934790285463403 and parameters: {'model_name': 'LR'}. Best is trial 9 with value: 0.07934790285463403.\n"
     ]
    },
    {
     "name": "stdout",
     "output_type": "stream",
     "text": [
      "🏃 View run orderly-fly-803 at: https://dagshub.com/maverick011/Uber-Demand-Prediction.mlflow/#/experiments/0/runs/4d7dc095a00f469d97645374a9d48715\n",
      "🧪 View experiment at: https://dagshub.com/maverick011/Uber-Demand-Prediction.mlflow/#/experiments/0\n"
     ]
    },
    {
     "name": "stderr",
     "output_type": "stream",
     "text": [
      "[I 2025-07-14 19:38:23,609] Trial 20 finished with value: 0.07934790285463403 and parameters: {'model_name': 'LR'}. Best is trial 9 with value: 0.07934790285463403.\n",
      "[I 2025-07-14 19:38:27,749] Trial 21 finished with value: 0.07934790285463403 and parameters: {'model_name': 'LR'}. Best is trial 9 with value: 0.07934790285463403.\n"
     ]
    },
    {
     "name": "stdout",
     "output_type": "stream",
     "text": [
      "🏃 View run merciful-eel-387 at: https://dagshub.com/maverick011/Uber-Demand-Prediction.mlflow/#/experiments/0/runs/2fc58abeb4d042d8b259ec98bfb0fa68\n",
      "🧪 View experiment at: https://dagshub.com/maverick011/Uber-Demand-Prediction.mlflow/#/experiments/0\n"
     ]
    },
    {
     "name": "stderr",
     "output_type": "stream",
     "text": [
      "[I 2025-07-14 19:38:44,229] Trial 22 finished with value: 0.07934790285463403 and parameters: {'model_name': 'LR'}. Best is trial 9 with value: 0.07934790285463403.\n"
     ]
    },
    {
     "name": "stdout",
     "output_type": "stream",
     "text": [
      "🏃 View run exultant-perch-754 at: https://dagshub.com/maverick011/Uber-Demand-Prediction.mlflow/#/experiments/0/runs/9d5c1e5b3d744468ac52b0b615e96854\n",
      "🧪 View experiment at: https://dagshub.com/maverick011/Uber-Demand-Prediction.mlflow/#/experiments/0\n"
     ]
    },
    {
     "name": "stderr",
     "output_type": "stream",
     "text": [
      "[I 2025-07-14 19:38:50,479] Trial 23 finished with value: 0.07934790285463403 and parameters: {'model_name': 'LR'}. Best is trial 9 with value: 0.07934790285463403.\n"
     ]
    },
    {
     "name": "stdout",
     "output_type": "stream",
     "text": [
      "🏃 View run luxuriant-shrew-862 at: https://dagshub.com/maverick011/Uber-Demand-Prediction.mlflow/#/experiments/0/runs/0030ccfac1574359a9a38360e4e2ab94\n",
      "🧪 View experiment at: https://dagshub.com/maverick011/Uber-Demand-Prediction.mlflow/#/experiments/0\n",
      "🏃 View run upbeat-crow-638 at: https://dagshub.com/maverick011/Uber-Demand-Prediction.mlflow/#/experiments/0/runs/2a8e52c5f357414fa85108a338559607\n",
      "🧪 View experiment at: https://dagshub.com/maverick011/Uber-Demand-Prediction.mlflow/#/experiments/0\n"
     ]
    },
    {
     "name": "stderr",
     "output_type": "stream",
     "text": [
      "[I 2025-07-14 19:39:04,927] Trial 24 finished with value: 0.07934790285463403 and parameters: {'model_name': 'LR'}. Best is trial 9 with value: 0.07934790285463403.\n"
     ]
    },
    {
     "name": "stdout",
     "output_type": "stream",
     "text": [
      "🏃 View run painted-mole-300 at: https://dagshub.com/maverick011/Uber-Demand-Prediction.mlflow/#/experiments/0/runs/75ccc7bbe50049f99573d2bb5e2c2437\n",
      "🧪 View experiment at: https://dagshub.com/maverick011/Uber-Demand-Prediction.mlflow/#/experiments/0\n"
     ]
    },
    {
     "name": "stderr",
     "output_type": "stream",
     "text": [
      "[I 2025-07-14 19:39:06,976] Trial 25 finished with value: 0.07934790285463403 and parameters: {'model_name': 'LR'}. Best is trial 9 with value: 0.07934790285463403.\n"
     ]
    },
    {
     "name": "stdout",
     "output_type": "stream",
     "text": [
      "🏃 View run adventurous-lynx-93 at: https://dagshub.com/maverick011/Uber-Demand-Prediction.mlflow/#/experiments/0/runs/5367eec38053414489336b6ab80fda5c\n",
      "🧪 View experiment at: https://dagshub.com/maverick011/Uber-Demand-Prediction.mlflow/#/experiments/0\n"
     ]
    },
    {
     "name": "stderr",
     "output_type": "stream",
     "text": [
      "[I 2025-07-14 19:39:12,141] Trial 26 finished with value: 0.07934790285463403 and parameters: {'model_name': 'LR'}. Best is trial 9 with value: 0.07934790285463403.\n",
      "[I 2025-07-14 19:39:16,241] Trial 27 finished with value: 0.07934790285463403 and parameters: {'model_name': 'LR'}. Best is trial 9 with value: 0.07934790285463403.\n"
     ]
    },
    {
     "name": "stdout",
     "output_type": "stream",
     "text": [
      "🏃 View run amusing-yak-244 at: https://dagshub.com/maverick011/Uber-Demand-Prediction.mlflow/#/experiments/0/runs/b48d34423fa344019cdc52d6bda753e2\n",
      "🧪 View experiment at: https://dagshub.com/maverick011/Uber-Demand-Prediction.mlflow/#/experiments/0\n"
     ]
    },
    {
     "name": "stderr",
     "output_type": "stream",
     "text": [
      "[I 2025-07-14 19:39:31,761] Trial 28 finished with value: 0.07934790285463403 and parameters: {'model_name': 'LR'}. Best is trial 9 with value: 0.07934790285463403.\n"
     ]
    },
    {
     "name": "stdout",
     "output_type": "stream",
     "text": [
      "🏃 View run thundering-sheep-414 at: https://dagshub.com/maverick011/Uber-Demand-Prediction.mlflow/#/experiments/0/runs/82ba7d7fba024bab9683bd9c8d000324\n",
      "🧪 View experiment at: https://dagshub.com/maverick011/Uber-Demand-Prediction.mlflow/#/experiments/0\n"
     ]
    },
    {
     "name": "stderr",
     "output_type": "stream",
     "text": [
      "[I 2025-07-14 19:39:39,001] Trial 29 finished with value: 0.07934790285463403 and parameters: {'model_name': 'LR'}. Best is trial 9 with value: 0.07934790285463403.\n"
     ]
    },
    {
     "name": "stdout",
     "output_type": "stream",
     "text": [
      "🏃 View run lyrical-skunk-699 at: https://dagshub.com/maverick011/Uber-Demand-Prediction.mlflow/#/experiments/0/runs/4eb0d2856b1a4acf99c8ac40a31d41c3\n",
      "🧪 View experiment at: https://dagshub.com/maverick011/Uber-Demand-Prediction.mlflow/#/experiments/0\n",
      "🏃 View run dapper-sponge-139 at: https://dagshub.com/maverick011/Uber-Demand-Prediction.mlflow/#/experiments/0/runs/017d62ca9e034952a476f5e0ade74223\n",
      "🧪 View experiment at: https://dagshub.com/maverick011/Uber-Demand-Prediction.mlflow/#/experiments/0\n"
     ]
    },
    {
     "name": "stderr",
     "output_type": "stream",
     "text": [
      "[19:39:50] WARNING: /workspace/src/common/error_msg.cc:27: The tree method `gpu_hist` is deprecated since 2.0.0. To use GPU training, set the `device` parameter to CUDA instead.\n",
      "\n",
      "    E.g. tree_method = \"hist\", device = \"cuda\"\n",
      "\n",
      "[19:39:49] WARNING: /workspace/src/common/error_msg.cc:27: The tree method `gpu_hist` is deprecated since 2.0.0. To use GPU training, set the `device` parameter to CUDA instead.\n",
      "\n",
      "    E.g. tree_method = \"hist\", device = \"cuda\"\n",
      "\n",
      "[I 2025-07-14 19:39:52,476] Trial 30 finished with value: 0.07934790285463403 and parameters: {'model_name': 'LR'}. Best is trial 9 with value: 0.07934790285463403.\n"
     ]
    },
    {
     "name": "stdout",
     "output_type": "stream",
     "text": [
      "🏃 View run defiant-koi-934 at: https://dagshub.com/maverick011/Uber-Demand-Prediction.mlflow/#/experiments/0/runs/5653e754b7714c779a4aeb32a78956f8\n",
      "🧪 View experiment at: https://dagshub.com/maverick011/Uber-Demand-Prediction.mlflow/#/experiments/0\n"
     ]
    },
    {
     "name": "stderr",
     "output_type": "stream",
     "text": [
      "[I 2025-07-14 19:39:54,544] Trial 31 finished with value: 0.07934790285463403 and parameters: {'model_name': 'LR'}. Best is trial 9 with value: 0.07934790285463403.\n"
     ]
    },
    {
     "name": "stdout",
     "output_type": "stream",
     "text": [
      "🏃 View run silent-newt-940 at: https://dagshub.com/maverick011/Uber-Demand-Prediction.mlflow/#/experiments/0/runs/2ac384a090fd4f7fa29507001db8893c\n",
      "🧪 View experiment at: https://dagshub.com/maverick011/Uber-Demand-Prediction.mlflow/#/experiments/0\n"
     ]
    },
    {
     "name": "stderr",
     "output_type": "stream",
     "text": [
      "[I 2025-07-14 19:39:59,664] Trial 32 finished with value: 0.07934790285463403 and parameters: {'model_name': 'LR'}. Best is trial 9 with value: 0.07934790285463403.\n",
      "[I 2025-07-14 19:40:03,790] Trial 33 finished with value: 0.07934790285463403 and parameters: {'model_name': 'LR'}. Best is trial 9 with value: 0.07934790285463403.\n",
      "[19:40:13] WARNING: /workspace/src/common/error_msg.cc:27: The tree method `gpu_hist` is deprecated since 2.0.0. To use GPU training, set the `device` parameter to CUDA instead.\n",
      "\n",
      "    E.g. tree_method = \"hist\", device = \"cuda\"\n",
      "\n",
      "[19:40:13] WARNING: /workspace/src/common/error_msg.cc:27: The tree method `gpu_hist` is deprecated since 2.0.0. To use GPU training, set the `device` parameter to CUDA instead.\n",
      "\n",
      "    E.g. tree_method = \"hist\", device = \"cuda\"\n",
      "\n"
     ]
    },
    {
     "name": "stdout",
     "output_type": "stream",
     "text": [
      "🏃 View run enchanting-gull-542 at: https://dagshub.com/maverick011/Uber-Demand-Prediction.mlflow/#/experiments/0/runs/f2d0343c234442c3a564f00912114c63\n",
      "🧪 View experiment at: https://dagshub.com/maverick011/Uber-Demand-Prediction.mlflow/#/experiments/0\n"
     ]
    },
    {
     "name": "stderr",
     "output_type": "stream",
     "text": [
      "[19:40:18] WARNING: /workspace/src/common/error_msg.cc:27: The tree method `gpu_hist` is deprecated since 2.0.0. To use GPU training, set the `device` parameter to CUDA instead.\n",
      "\n",
      "    E.g. tree_method = \"hist\", device = \"cuda\"\n",
      "\n",
      "[19:40:18] WARNING: /workspace/src/common/error_msg.cc:27: The tree method `gpu_hist` is deprecated since 2.0.0. To use GPU training, set the `device` parameter to CUDA instead.\n",
      "\n",
      "    E.g. tree_method = \"hist\", device = \"cuda\"\n",
      "\n",
      "[I 2025-07-14 19:40:20,319] Trial 34 finished with value: 2.52119517326355 and parameters: {'model_name': 'XGBR', 'n_estimators_xgb': 10, 'learning_rate_xgb': 0.09318226964177724, 'max_depth_xgb': 10}. Best is trial 9 with value: 0.07934790285463403.\n"
     ]
    },
    {
     "name": "stdout",
     "output_type": "stream",
     "text": [
      "🏃 View run caring-trout-466 at: https://dagshub.com/maverick011/Uber-Demand-Prediction.mlflow/#/experiments/0/runs/e21640cbd6f74ab09df376a24ca99ca1\n",
      "🧪 View experiment at: https://dagshub.com/maverick011/Uber-Demand-Prediction.mlflow/#/experiments/0\n"
     ]
    },
    {
     "name": "stderr",
     "output_type": "stream",
     "text": [
      "[19:40:21] WARNING: /workspace/src/common/error_msg.cc:27: The tree method `gpu_hist` is deprecated since 2.0.0. To use GPU training, set the `device` parameter to CUDA instead.\n",
      "\n",
      "    E.g. tree_method = \"hist\", device = \"cuda\"\n",
      "\n",
      "[19:40:21] WARNING: /workspace/src/common/error_msg.cc:27: The tree method `gpu_hist` is deprecated since 2.0.0. To use GPU training, set the `device` parameter to CUDA instead.\n",
      "\n",
      "    E.g. tree_method = \"hist\", device = \"cuda\"\n",
      "\n",
      "[I 2025-07-14 19:40:26,570] Trial 35 finished with value: 0.07934790285463403 and parameters: {'model_name': 'LR'}. Best is trial 9 with value: 0.07934790285463403.\n"
     ]
    },
    {
     "name": "stdout",
     "output_type": "stream",
     "text": [
      "🏃 View run sassy-roo-772 at: https://dagshub.com/maverick011/Uber-Demand-Prediction.mlflow/#/experiments/0/runs/f3ebe5a6fc934f9985ddafbde360ddc3\n",
      "🧪 View experiment at: https://dagshub.com/maverick011/Uber-Demand-Prediction.mlflow/#/experiments/0\n",
      "🏃 View run silent-mouse-609 at: https://dagshub.com/maverick011/Uber-Demand-Prediction.mlflow/#/experiments/0/runs/339104f85dc8466c8d5ecbbf694eb401\n",
      "🧪 View experiment at: https://dagshub.com/maverick011/Uber-Demand-Prediction.mlflow/#/experiments/0\n",
      "🏃 View run receptive-turtle-882 at: https://dagshub.com/maverick011/Uber-Demand-Prediction.mlflow/#/experiments/0/runs/24353979fac049f5956d5bdd50ce5a03\n",
      "🧪 View experiment at: https://dagshub.com/maverick011/Uber-Demand-Prediction.mlflow/#/experiments/0\n"
     ]
    },
    {
     "name": "stderr",
     "output_type": "stream",
     "text": [
      "[I 2025-07-14 19:40:42,000] Trial 36 finished with value: 0.07934790285463403 and parameters: {'model_name': 'LR'}. Best is trial 9 with value: 0.07934790285463403.\n",
      "[I 2025-07-14 19:40:43,032] Trial 37 finished with value: 4.08152437210083 and parameters: {'model_name': 'XGBR', 'n_estimators_xgb': 10, 'learning_rate_xgb': 0.047325923405690556, 'max_depth_xgb': 10}. Best is trial 9 with value: 0.07934790285463403.\n"
     ]
    },
    {
     "name": "stdout",
     "output_type": "stream",
     "text": [
      "🏃 View run salty-worm-754 at: https://dagshub.com/maverick011/Uber-Demand-Prediction.mlflow/#/experiments/0/runs/3f324d739f0a4935b7f3ca99265a6f1c\n",
      "🧪 View experiment at: https://dagshub.com/maverick011/Uber-Demand-Prediction.mlflow/#/experiments/0\n"
     ]
    },
    {
     "name": "stderr",
     "output_type": "stream",
     "text": [
      "[I 2025-07-14 19:40:46,161] Trial 38 finished with value: 2.9592363834381104 and parameters: {'model_name': 'XGBR', 'n_estimators_xgb': 10, 'learning_rate_xgb': 0.07814003909736787, 'max_depth_xgb': 10}. Best is trial 9 with value: 0.07934790285463403.\n",
      "[I 2025-07-14 19:40:49,234] Trial 39 finished with value: 2.357081890106201 and parameters: {'model_name': 'XGBR', 'n_estimators_xgb': 10, 'learning_rate_xgb': 0.09945366347577382, 'max_depth_xgb': 9}. Best is trial 9 with value: 0.07934790285463403.\n"
     ]
    },
    {
     "name": "stdout",
     "output_type": "stream",
     "text": [
      "🏃 View run secretive-auk-629 at: https://dagshub.com/maverick011/Uber-Demand-Prediction.mlflow/#/experiments/0/runs/f8848cea1ef940a490c9b397d88e34a3\n",
      "🧪 View experiment at: https://dagshub.com/maverick011/Uber-Demand-Prediction.mlflow/#/experiments/0\n"
     ]
    },
    {
     "name": "stderr",
     "output_type": "stream",
     "text": [
      "[I 2025-07-14 19:41:06,800] Trial 40 finished with value: 0.1284471279720147 and parameters: {'model_name': 'RF', 'n_estimators_rf': 90, 'max_depth_rf': 10}. Best is trial 9 with value: 0.07934790285463403.\n"
     ]
    },
    {
     "name": "stdout",
     "output_type": "stream",
     "text": [
      "🏃 View run thoughtful-gnu-769 at: https://dagshub.com/maverick011/Uber-Demand-Prediction.mlflow/#/experiments/0/runs/f1f960f185484c10b6d93b0d1905574c\n",
      "🧪 View experiment at: https://dagshub.com/maverick011/Uber-Demand-Prediction.mlflow/#/experiments/0\n"
     ]
    },
    {
     "name": "stderr",
     "output_type": "stream",
     "text": [
      "[I 2025-07-14 19:41:09,888] Trial 41 finished with value: 0.12837921992144385 and parameters: {'model_name': 'RF', 'n_estimators_rf': 100, 'max_depth_rf': 10}. Best is trial 9 with value: 0.07934790285463403.\n"
     ]
    },
    {
     "name": "stdout",
     "output_type": "stream",
     "text": [
      "🏃 View run bedecked-cat-194 at: https://dagshub.com/maverick011/Uber-Demand-Prediction.mlflow/#/experiments/0/runs/472003f64b354c7792ef6f18a06af8f4\n",
      "🧪 View experiment at: https://dagshub.com/maverick011/Uber-Demand-Prediction.mlflow/#/experiments/0\n"
     ]
    },
    {
     "name": "stderr",
     "output_type": "stream",
     "text": [
      "[I 2025-07-14 19:41:27,839] Trial 42 finished with value: 0.12837921992144385 and parameters: {'model_name': 'RF', 'n_estimators_rf': 100, 'max_depth_rf': 10}. Best is trial 9 with value: 0.07934790285463403.\n"
     ]
    },
    {
     "name": "stdout",
     "output_type": "stream",
     "text": [
      "🏃 View run crawling-bird-715 at: https://dagshub.com/maverick011/Uber-Demand-Prediction.mlflow/#/experiments/0/runs/74c5b3c4655244229f4c2717305a09ed\n",
      "🧪 View experiment at: https://dagshub.com/maverick011/Uber-Demand-Prediction.mlflow/#/experiments/0\n"
     ]
    },
    {
     "name": "stderr",
     "output_type": "stream",
     "text": [
      "[I 2025-07-14 19:41:32,327] Trial 43 finished with value: 0.12837921992144385 and parameters: {'model_name': 'RF', 'n_estimators_rf': 100, 'max_depth_rf': 10}. Best is trial 9 with value: 0.07934790285463403.\n"
     ]
    },
    {
     "name": "stdout",
     "output_type": "stream",
     "text": [
      "🏃 View run charming-bird-719 at: https://dagshub.com/maverick011/Uber-Demand-Prediction.mlflow/#/experiments/0/runs/8e1b4e2b999149e1845ee819ddad8aa5\n",
      "🧪 View experiment at: https://dagshub.com/maverick011/Uber-Demand-Prediction.mlflow/#/experiments/0\n"
     ]
    },
    {
     "name": "stderr",
     "output_type": "stream",
     "text": [
      "[I 2025-07-14 19:41:38,717] Trial 44 finished with value: 0.12844712797201474 and parameters: {'model_name': 'RF', 'n_estimators_rf': 90, 'max_depth_rf': 10}. Best is trial 9 with value: 0.07934790285463403.\n"
     ]
    },
    {
     "name": "stdout",
     "output_type": "stream",
     "text": [
      "🏃 View run grandiose-crow-762 at: https://dagshub.com/maverick011/Uber-Demand-Prediction.mlflow/#/experiments/0/runs/75ef2a791d2c438cb9632b15dec03634\n",
      "🧪 View experiment at: https://dagshub.com/maverick011/Uber-Demand-Prediction.mlflow/#/experiments/0\n"
     ]
    },
    {
     "name": "stderr",
     "output_type": "stream",
     "text": [
      "[I 2025-07-14 19:41:41,724] Trial 45 finished with value: 0.12837921992144385 and parameters: {'model_name': 'RF', 'n_estimators_rf': 100, 'max_depth_rf': 10}. Best is trial 9 with value: 0.07934790285463403.\n"
     ]
    },
    {
     "name": "stdout",
     "output_type": "stream",
     "text": [
      "🏃 View run overjoyed-doe-22 at: https://dagshub.com/maverick011/Uber-Demand-Prediction.mlflow/#/experiments/0/runs/8bdcfe1456f840bea7787eb08b8bdbaf\n",
      "🧪 View experiment at: https://dagshub.com/maverick011/Uber-Demand-Prediction.mlflow/#/experiments/0\n",
      "🏃 View run persistent-bass-823 at: https://dagshub.com/maverick011/Uber-Demand-Prediction.mlflow/#/experiments/0/runs/4e911c1d705e44608acf8af2a5e01553\n",
      "🧪 View experiment at: https://dagshub.com/maverick011/Uber-Demand-Prediction.mlflow/#/experiments/0\n"
     ]
    },
    {
     "name": "stderr",
     "output_type": "stream",
     "text": [
      "[I 2025-07-14 19:41:50,985] Trial 47 finished with value: 0.959055680443814 and parameters: {'model_name': 'GBR', 'n_estimators_gb': 100, 'learning_rate_gb': 0.02183155063060685}. Best is trial 9 with value: 0.07934790285463403.\n",
      "[I 2025-07-14 19:41:53,042] Trial 46 finished with value: 0.9580102484227003 and parameters: {'model_name': 'GBR', 'n_estimators_gb': 100, 'learning_rate_gb': 0.02185872912719904}. Best is trial 9 with value: 0.07934790285463403.\n"
     ]
    },
    {
     "name": "stdout",
     "output_type": "stream",
     "text": [
      "🏃 View run skillful-donkey-900 at: https://dagshub.com/maverick011/Uber-Demand-Prediction.mlflow/#/experiments/0/runs/2d679f188656419f8c179e3ce13f973b\n",
      "🧪 View experiment at: https://dagshub.com/maverick011/Uber-Demand-Prediction.mlflow/#/experiments/0\n",
      "🏃 View run sneaky-quail-580 at: https://dagshub.com/maverick011/Uber-Demand-Prediction.mlflow/#/experiments/0/runs/12c26711b7254d938843760ba4ba4685\n",
      "🧪 View experiment at: https://dagshub.com/maverick011/Uber-Demand-Prediction.mlflow/#/experiments/0\n"
     ]
    },
    {
     "name": "stderr",
     "output_type": "stream",
     "text": [
      "[I 2025-07-14 19:42:00,342] Trial 48 finished with value: 0.7227710675529212 and parameters: {'model_name': 'GBR', 'n_estimators_gb': 100, 'learning_rate_gb': 0.025529484169621287}. Best is trial 9 with value: 0.07934790285463403.\n",
      "[I 2025-07-14 19:42:01,386] Trial 49 finished with value: 0.8631026006701731 and parameters: {'model_name': 'GBR', 'n_estimators_gb': 100, 'learning_rate_gb': 0.023167224141303323}. Best is trial 9 with value: 0.07934790285463403.\n"
     ]
    },
    {
     "name": "stdout",
     "output_type": "stream",
     "text": [
      "🏃 View run best_model at: https://dagshub.com/maverick011/Uber-Demand-Prediction.mlflow/#/experiments/0/runs/1600fc0640f64031a6f2544a3dfa9201\n",
      "🧪 View experiment at: https://dagshub.com/maverick011/Uber-Demand-Prediction.mlflow/#/experiments/0\n"
     ]
    }
   ],
   "source": [
    "# optimize the objective function\n",
    "\n",
    "with mlflow.start_run(run_name=\"best_model\", nested=True) as parent:\n",
    "\n",
    "    # create a study object\n",
    "    study = optuna.create_study(study_name=\"model_selection\", direction=\"minimize\")\n",
    "    # optimize the objective function\n",
    "    study.optimize(func=objective, n_trials=50, n_jobs=-1)\n",
    "    \n",
    "    # log the best parameters\n",
    "    mlflow.log_params(study.best_params)\n",
    "    # log the best error value\n",
    "    mlflow.log_metric(\"Best_MAPE\", study.best_value)"
   ]
  },
  {
   "cell_type": "code",
   "execution_count": 21,
   "id": "a7ae6c39",
   "metadata": {},
   "outputs": [
    {
     "data": {
      "text/plain": [
       "0.07934790285463403"
      ]
     },
     "execution_count": 21,
     "metadata": {},
     "output_type": "execute_result"
    }
   ],
   "source": [
    "# best value\n",
    "\n",
    "study.best_value"
   ]
  },
  {
   "cell_type": "code",
   "execution_count": 22,
   "id": "ddf1632d",
   "metadata": {},
   "outputs": [
    {
     "data": {
      "text/plain": [
       "{'model_name': 'LR'}"
      ]
     },
     "execution_count": 22,
     "metadata": {},
     "output_type": "execute_result"
    }
   ],
   "source": [
    "# best parameters\n",
    "\n",
    "study.best_params\n"
   ]
  },
  {
   "cell_type": "code",
   "execution_count": 23,
   "id": "c743c338",
   "metadata": {},
   "outputs": [
    {
     "data": {
      "text/plain": [
       "params_model_name\n",
       "LR      24\n",
       "RF      11\n",
       "GBR      8\n",
       "XGBR     7\n",
       "Name: count, dtype: int64"
      ]
     },
     "execution_count": 23,
     "metadata": {},
     "output_type": "execute_result"
    }
   ],
   "source": [
    "# model value counts\n",
    "\n",
    "study.trials_dataframe()['params_model_name'].value_counts()"
   ]
  },
  {
   "cell_type": "code",
   "execution_count": 29,
   "id": "d8001a13",
   "metadata": {},
   "outputs": [],
   "source": [
    "from optuna.visualization import (\n",
    "    plot_optimization_history, \n",
    "    plot_parallel_coordinate, \n",
    "    plot_param_importances\n",
    ")"
   ]
  },
  {
   "cell_type": "code",
   "execution_count": 30,
   "id": "b2339d97",
   "metadata": {},
   "outputs": [
    {
     "ename": "ImportError",
     "evalue": "Tried to import 'plotly' but failed. Please make sure that the package is installed correctly to use this feature. Actual error: No module named 'plotly'.",
     "output_type": "error",
     "traceback": [
      "\u001b[31m---------------------------------------------------------------------------\u001b[39m",
      "\u001b[31mModuleNotFoundError\u001b[39m                       Traceback (most recent call last)",
      "\u001b[36mFile \u001b[39m\u001b[32m/mnt/c/Users/jatin/Desktop/My/my skills/wsl_proj/uber/lib/python3.13/site-packages/optuna/visualization/_plotly_imports.py:7\u001b[39m\n\u001b[32m      6\u001b[39m \u001b[38;5;28;01mwith\u001b[39;00m try_import() \u001b[38;5;28;01mas\u001b[39;00m _imports:\n\u001b[32m----> \u001b[39m\u001b[32m7\u001b[39m     \u001b[38;5;28;01mimport\u001b[39;00m\u001b[38;5;250m \u001b[39m\u001b[34;01mplotly\u001b[39;00m\n\u001b[32m      8\u001b[39m     \u001b[38;5;28;01mfrom\u001b[39;00m\u001b[38;5;250m \u001b[39m\u001b[34;01mplotly\u001b[39;00m\u001b[38;5;250m \u001b[39m\u001b[38;5;28;01mimport\u001b[39;00m __version__ \u001b[38;5;28;01mas\u001b[39;00m plotly_version\n",
      "\u001b[31mModuleNotFoundError\u001b[39m: No module named 'plotly'",
      "\nThe above exception was the direct cause of the following exception:\n",
      "\u001b[31mImportError\u001b[39m                               Traceback (most recent call last)",
      "\u001b[36mCell\u001b[39m\u001b[36m \u001b[39m\u001b[32mIn[30]\u001b[39m\u001b[32m, line 1\u001b[39m\n\u001b[32m----> \u001b[39m\u001b[32m1\u001b[39m \u001b[43mplot_optimization_history\u001b[49m\u001b[43m(\u001b[49m\u001b[43mstudy\u001b[49m\u001b[43m)\u001b[49m\n",
      "\u001b[36mFile \u001b[39m\u001b[32m/mnt/c/Users/jatin/Desktop/My/my skills/wsl_proj/uber/lib/python3.13/site-packages/optuna/visualization/_optimization_history.py:200\u001b[39m, in \u001b[36mplot_optimization_history\u001b[39m\u001b[34m(study, target, target_name, error_bar)\u001b[39m\n\u001b[32m    172\u001b[39m \u001b[38;5;28;01mdef\u001b[39;00m\u001b[38;5;250m \u001b[39m\u001b[34mplot_optimization_history\u001b[39m(\n\u001b[32m    173\u001b[39m     study: Study | Sequence[Study],\n\u001b[32m    174\u001b[39m     *,\n\u001b[32m   (...)\u001b[39m\u001b[32m    177\u001b[39m     error_bar: \u001b[38;5;28mbool\u001b[39m = \u001b[38;5;28;01mFalse\u001b[39;00m,\n\u001b[32m    178\u001b[39m ) -> \u001b[33m\"\u001b[39m\u001b[33mgo.Figure\u001b[39m\u001b[33m\"\u001b[39m:\n\u001b[32m    179\u001b[39m \u001b[38;5;250m    \u001b[39m\u001b[33;03m\"\"\"Plot optimization history of all trials in a study.\u001b[39;00m\n\u001b[32m    180\u001b[39m \n\u001b[32m    181\u001b[39m \u001b[33;03m    Args:\u001b[39;00m\n\u001b[32m   (...)\u001b[39m\u001b[32m    197\u001b[39m \u001b[33;03m        A :class:`plotly.graph_objects.Figure` object.\u001b[39;00m\n\u001b[32m    198\u001b[39m \u001b[33;03m    \"\"\"\u001b[39;00m\n\u001b[32m--> \u001b[39m\u001b[32m200\u001b[39m     \u001b[43m_imports\u001b[49m\u001b[43m.\u001b[49m\u001b[43mcheck\u001b[49m\u001b[43m(\u001b[49m\u001b[43m)\u001b[49m\n\u001b[32m    202\u001b[39m     info_list = _get_optimization_history_info_list(study, target, target_name, error_bar)\n\u001b[32m    203\u001b[39m     \u001b[38;5;28;01mreturn\u001b[39;00m _get_optimization_history_plot(info_list, target_name)\n",
      "\u001b[36mFile \u001b[39m\u001b[32m/mnt/c/Users/jatin/Desktop/My/my skills/wsl_proj/uber/lib/python3.13/site-packages/optuna/_imports.py:94\u001b[39m, in \u001b[36m_DeferredImportExceptionContextManager.check\u001b[39m\u001b[34m(self)\u001b[39m\n\u001b[32m     92\u001b[39m \u001b[38;5;28;01mif\u001b[39;00m \u001b[38;5;28mself\u001b[39m._deferred \u001b[38;5;129;01mis\u001b[39;00m \u001b[38;5;129;01mnot\u001b[39;00m \u001b[38;5;28;01mNone\u001b[39;00m:\n\u001b[32m     93\u001b[39m     exc_value, message = \u001b[38;5;28mself\u001b[39m._deferred\n\u001b[32m---> \u001b[39m\u001b[32m94\u001b[39m     \u001b[38;5;28;01mraise\u001b[39;00m \u001b[38;5;167;01mImportError\u001b[39;00m(message) \u001b[38;5;28;01mfrom\u001b[39;00m\u001b[38;5;250m \u001b[39m\u001b[34;01mexc_value\u001b[39;00m\n",
      "\u001b[31mImportError\u001b[39m: Tried to import 'plotly' but failed. Please make sure that the package is installed correctly to use this feature. Actual error: No module named 'plotly'."
     ]
    }
   ],
   "source": [
    "plot_optimization_history(study)"
   ]
  },
  {
   "cell_type": "code",
   "execution_count": 31,
   "id": "86739129",
   "metadata": {},
   "outputs": [
    {
     "ename": "ImportError",
     "evalue": "Tried to import 'plotly' but failed. Please make sure that the package is installed correctly to use this feature. Actual error: No module named 'plotly'.",
     "output_type": "error",
     "traceback": [
      "\u001b[31m---------------------------------------------------------------------------\u001b[39m",
      "\u001b[31mModuleNotFoundError\u001b[39m                       Traceback (most recent call last)",
      "\u001b[36mFile \u001b[39m\u001b[32m/mnt/c/Users/jatin/Desktop/My/my skills/wsl_proj/uber/lib/python3.13/site-packages/optuna/visualization/_plotly_imports.py:7\u001b[39m\n\u001b[32m      6\u001b[39m \u001b[38;5;28;01mwith\u001b[39;00m try_import() \u001b[38;5;28;01mas\u001b[39;00m _imports:\n\u001b[32m----> \u001b[39m\u001b[32m7\u001b[39m     \u001b[38;5;28;01mimport\u001b[39;00m\u001b[38;5;250m \u001b[39m\u001b[34;01mplotly\u001b[39;00m\n\u001b[32m      8\u001b[39m     \u001b[38;5;28;01mfrom\u001b[39;00m\u001b[38;5;250m \u001b[39m\u001b[34;01mplotly\u001b[39;00m\u001b[38;5;250m \u001b[39m\u001b[38;5;28;01mimport\u001b[39;00m __version__ \u001b[38;5;28;01mas\u001b[39;00m plotly_version\n",
      "\u001b[31mModuleNotFoundError\u001b[39m: No module named 'plotly'",
      "\nThe above exception was the direct cause of the following exception:\n",
      "\u001b[31mImportError\u001b[39m                               Traceback (most recent call last)",
      "\u001b[36mCell\u001b[39m\u001b[36m \u001b[39m\u001b[32mIn[31]\u001b[39m\u001b[32m, line 1\u001b[39m\n\u001b[32m----> \u001b[39m\u001b[32m1\u001b[39m \u001b[43mplot_parallel_coordinate\u001b[49m\u001b[43m(\u001b[49m\u001b[43mstudy\u001b[49m\u001b[43m,\u001b[49m\u001b[43m \u001b[49m\u001b[43mparams\u001b[49m\u001b[43m=\u001b[49m\u001b[43m[\u001b[49m\u001b[33;43m\"\u001b[39;49m\u001b[33;43mmodel_name\u001b[39;49m\u001b[33;43m\"\u001b[39;49m\u001b[43m]\u001b[49m\u001b[43m)\u001b[49m\n",
      "\u001b[36mFile \u001b[39m\u001b[32m/mnt/c/Users/jatin/Desktop/My/my skills/wsl_proj/uber/lib/python3.13/site-packages/optuna/visualization/_parallel_coordinate.py:83\u001b[39m, in \u001b[36mplot_parallel_coordinate\u001b[39m\u001b[34m(study, params, target, target_name)\u001b[39m\n\u001b[32m     50\u001b[39m \u001b[38;5;28;01mdef\u001b[39;00m\u001b[38;5;250m \u001b[39m\u001b[34mplot_parallel_coordinate\u001b[39m(\n\u001b[32m     51\u001b[39m     study: Study,\n\u001b[32m     52\u001b[39m     params: \u001b[38;5;28mlist\u001b[39m[\u001b[38;5;28mstr\u001b[39m] | \u001b[38;5;28;01mNone\u001b[39;00m = \u001b[38;5;28;01mNone\u001b[39;00m,\n\u001b[32m   (...)\u001b[39m\u001b[32m     55\u001b[39m     target_name: \u001b[38;5;28mstr\u001b[39m = \u001b[33m\"\u001b[39m\u001b[33mObjective Value\u001b[39m\u001b[33m\"\u001b[39m,\n\u001b[32m     56\u001b[39m ) -> \u001b[33m\"\u001b[39m\u001b[33mgo.Figure\u001b[39m\u001b[33m\"\u001b[39m:\n\u001b[32m     57\u001b[39m \u001b[38;5;250m    \u001b[39m\u001b[33;03m\"\"\"Plot the high-dimensional parameter relationships in a study.\u001b[39;00m\n\u001b[32m     58\u001b[39m \n\u001b[32m     59\u001b[39m \u001b[33;03m    Note that, if a parameter contains missing values, a trial with missing values is not plotted.\u001b[39;00m\n\u001b[32m   (...)\u001b[39m\u001b[32m     80\u001b[39m \u001b[33;03m        of :class:`~optuna.study.Study` is ``minimize``.\u001b[39;00m\n\u001b[32m     81\u001b[39m \u001b[33;03m    \"\"\"\u001b[39;00m\n\u001b[32m---> \u001b[39m\u001b[32m83\u001b[39m     \u001b[43m_imports\u001b[49m\u001b[43m.\u001b[49m\u001b[43mcheck\u001b[49m\u001b[43m(\u001b[49m\u001b[43m)\u001b[49m\n\u001b[32m     84\u001b[39m     info = _get_parallel_coordinate_info(study, params, target, target_name)\n\u001b[32m     85\u001b[39m     \u001b[38;5;28;01mreturn\u001b[39;00m _get_parallel_coordinate_plot(info)\n",
      "\u001b[36mFile \u001b[39m\u001b[32m/mnt/c/Users/jatin/Desktop/My/my skills/wsl_proj/uber/lib/python3.13/site-packages/optuna/_imports.py:94\u001b[39m, in \u001b[36m_DeferredImportExceptionContextManager.check\u001b[39m\u001b[34m(self)\u001b[39m\n\u001b[32m     92\u001b[39m \u001b[38;5;28;01mif\u001b[39;00m \u001b[38;5;28mself\u001b[39m._deferred \u001b[38;5;129;01mis\u001b[39;00m \u001b[38;5;129;01mnot\u001b[39;00m \u001b[38;5;28;01mNone\u001b[39;00m:\n\u001b[32m     93\u001b[39m     exc_value, message = \u001b[38;5;28mself\u001b[39m._deferred\n\u001b[32m---> \u001b[39m\u001b[32m94\u001b[39m     \u001b[38;5;28;01mraise\u001b[39;00m \u001b[38;5;167;01mImportError\u001b[39;00m(message) \u001b[38;5;28;01mfrom\u001b[39;00m\u001b[38;5;250m \u001b[39m\u001b[34;01mexc_value\u001b[39;00m\n",
      "\u001b[31mImportError\u001b[39m: Tried to import 'plotly' but failed. Please make sure that the package is installed correctly to use this feature. Actual error: No module named 'plotly'."
     ]
    }
   ],
   "source": [
    "plot_parallel_coordinate(study, params=[\"model_name\"])"
   ]
  },
  {
   "cell_type": "code",
   "execution_count": null,
   "id": "bc5b369a",
   "metadata": {},
   "outputs": [],
   "source": [
    "# train the linear regression model\n",
    "\n",
    "lr = LinearRegression()\n",
    "\n",
    "lr.fit(X_train_encoded, y_train)\n",
    "\n",
    "# get predictions\n",
    "y_pred_train = lr.predict(X_train_encoded) \n",
    "y_pred_test = lr.predict(X_test_encoded)\n",
    "\n",
    "# loss\n",
    "\n",
    "mape_train = mean_absolute_percentage_error(y_train, y_pred_train)\n",
    "mape_test = mean_absolute_percentage_error(y_test, y_pred_test)\n",
    "\n",
    "print(\"The training error is \", mape_train)\n",
    "print(\"The test error is \", mape_test)"
   ]
  },
  {
   "cell_type": "code",
   "execution_count": null,
   "id": "70024e55",
   "metadata": {},
   "outputs": [],
   "source": [
    "lr.coef_"
   ]
  },
  {
   "cell_type": "code",
   "execution_count": null,
   "id": "019d2698",
   "metadata": {},
   "outputs": [],
   "source": [
    "def tune_ridge(trial):\n",
    "    # hyperparameter space\n",
    "    alpha = trial.suggest_float(\"alpha\",30,100)\n",
    "    \n",
    "    # make the model object\n",
    "    ridge = Ridge(alpha=alpha, random_state=42)\n",
    "    \n",
    "    # train the model\n",
    "    ridge.fit(X_train_encoded, y_train)\n",
    "    \n",
    "    # get predictions\n",
    "    y_pred = ridge.predict(X_test_encoded)\n",
    "    \n",
    "    # calculate loss\n",
    "    loss = mean_absolute_percentage_error(y_test, y_pred)\n",
    "\n",
    "    return loss\n",
    "        "
   ]
  },
  {
   "cell_type": "code",
   "execution_count": null,
   "id": "b95183a1",
   "metadata": {},
   "outputs": [],
   "source": [
    "# create study\n",
    "\n",
    "study = optuna.create_study(study_name=\"tune_model\", direction=\"minimize\")"
   ]
  },
  {
   "cell_type": "code",
   "execution_count": null,
   "id": "716f4146",
   "metadata": {},
   "outputs": [],
   "source": [
    "# optimize\n",
    "\n",
    "study.optimize(func=tune_ridge, n_trials=100, n_jobs=-1, show_progress_bar=True)"
   ]
  },
  {
   "cell_type": "code",
   "execution_count": null,
   "id": "ff8808ba",
   "metadata": {},
   "outputs": [],
   "source": [
    "# best parameters\n",
    "\n",
    "study.best_params"
   ]
  },
  {
   "cell_type": "code",
   "execution_count": null,
   "id": "febcd67b",
   "metadata": {},
   "outputs": [],
   "source": [
    "# best value\n",
    "\n",
    "study.best_value"
   ]
  }
 ],
 "metadata": {
  "kernelspec": {
   "display_name": "uber",
   "language": "python",
   "name": "python3"
  },
  "language_info": {
   "codemirror_mode": {
    "name": "ipython",
    "version": 3
   },
   "file_extension": ".py",
   "mimetype": "text/x-python",
   "name": "python",
   "nbconvert_exporter": "python",
   "pygments_lexer": "ipython3",
   "version": "3.13.2"
  }
 },
 "nbformat": 4,
 "nbformat_minor": 5
}
